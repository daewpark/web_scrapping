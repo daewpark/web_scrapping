{
  "nbformat": 4,
  "nbformat_minor": 0,
  "metadata": {
    "colab": {
      "name": "eunpyung_scrapping.ipynb",
      "provenance": [],
      "authorship_tag": "ABX9TyNf4HrLzBAJ3AD0t2XpX92C",
      "include_colab_link": true
    },
    "kernelspec": {
      "name": "python3",
      "display_name": "Python 3"
    }
  },
  "cells": [
    {
      "cell_type": "markdown",
      "metadata": {
        "id": "view-in-github",
        "colab_type": "text"
      },
      "source": [
        "<a href=\"https://colab.research.google.com/github/daewpark/web_scrapping/blob/main/eunpyung_scrapping.ipynb\" target=\"_parent\"><img src=\"https://colab.research.google.com/assets/colab-badge.svg\" alt=\"Open In Colab\"/></a>"
      ]
    },
    {
      "cell_type": "code",
      "metadata": {
        "colab": {
          "base_uri": "https://localhost:8080/",
          "height": 370
        },
        "id": "mFKqEimB1_Yw",
        "outputId": "c157eca1-cedc-4593-ec9a-1157b9710e53"
      },
      "source": [
        "from selenium import webdriver\r\n",
        "from selenium.webdriver.chrome.options import Options\r\n",
        "from selenium.webdriver.support.wait import WebDriverWait\r\n",
        "import time"
      ],
      "execution_count": 1,
      "outputs": [
        {
          "output_type": "error",
          "ename": "ModuleNotFoundError",
          "evalue": "ignored",
          "traceback": [
            "\u001b[0;31m---------------------------------------------------------------------------\u001b[0m",
            "\u001b[0;31mModuleNotFoundError\u001b[0m                       Traceback (most recent call last)",
            "\u001b[0;32m<ipython-input-1-a347ede7eaad>\u001b[0m in \u001b[0;36m<module>\u001b[0;34m()\u001b[0m\n\u001b[0;32m----> 1\u001b[0;31m \u001b[0;32mfrom\u001b[0m \u001b[0mselenium\u001b[0m \u001b[0;32mimport\u001b[0m \u001b[0mwebdriver\u001b[0m\u001b[0;34m\u001b[0m\u001b[0;34m\u001b[0m\u001b[0m\n\u001b[0m\u001b[1;32m      2\u001b[0m \u001b[0;32mfrom\u001b[0m \u001b[0mselenium\u001b[0m\u001b[0;34m.\u001b[0m\u001b[0mwebdriver\u001b[0m\u001b[0;34m.\u001b[0m\u001b[0mchrome\u001b[0m\u001b[0;34m.\u001b[0m\u001b[0moptions\u001b[0m \u001b[0;32mimport\u001b[0m \u001b[0mOptions\u001b[0m\u001b[0;34m\u001b[0m\u001b[0;34m\u001b[0m\u001b[0m\n\u001b[1;32m      3\u001b[0m \u001b[0;32mfrom\u001b[0m \u001b[0mselenium\u001b[0m\u001b[0;34m.\u001b[0m\u001b[0mwebdriver\u001b[0m\u001b[0;34m.\u001b[0m\u001b[0msupport\u001b[0m\u001b[0;34m.\u001b[0m\u001b[0mwait\u001b[0m \u001b[0;32mimport\u001b[0m \u001b[0mWebDriverWait\u001b[0m\u001b[0;34m\u001b[0m\u001b[0;34m\u001b[0m\u001b[0m\n\u001b[1;32m      4\u001b[0m \u001b[0;32mimport\u001b[0m \u001b[0mtime\u001b[0m\u001b[0;34m\u001b[0m\u001b[0;34m\u001b[0m\u001b[0m\n",
            "\u001b[0;31mModuleNotFoundError\u001b[0m: No module named 'selenium'",
            "",
            "\u001b[0;31m---------------------------------------------------------------------------\u001b[0;32m\nNOTE: If your import is failing due to a missing package, you can\nmanually install dependencies using either !pip or !apt.\n\nTo view examples of installing some common dependencies, click the\n\"Open Examples\" button below.\n\u001b[0;31m---------------------------------------------------------------------------\u001b[0m\n"
          ]
        }
      ]
    },
    {
      "cell_type": "code",
      "metadata": {
        "id": "hR_ahELy2okO"
      },
      "source": [
        ""
      ],
      "execution_count": null,
      "outputs": []
    },
    {
      "cell_type": "code",
      "metadata": {
        "id": "SlfpTX4O2KE0"
      },
      "source": [
        "import urllib.request\r\n",
        "from bs4 import BeautifulSoup\r\n",
        "import re"
      ],
      "execution_count": null,
      "outputs": []
    },
    {
      "cell_type": "code",
      "metadata": {
        "id": "vFZY--vx2LlB"
      },
      "source": [
        "options = Options()\r\n",
        "options.headless = True\r\n",
        "driver = webdriver.Chrome(executable_path=\"./chromedriver\", options=options)\r\n",
        "url = \"https://www.ep.go.kr/CmsWeb/viewPage.req?idx=PG0000001180\"\r\n",
        "driver.get(url)\r\n",
        "time.sleep(1)"
      ],
      "execution_count": null,
      "outputs": []
    },
    {
      "cell_type": "code",
      "metadata": {
        "id": "suE330ae2SA9"
      },
      "source": [
        "search = driver.find_element_by_name(\"searTot\")\r\n",
        "search.send_keys(\"원아모집\")\r\n",
        "search.submit()\r\n",
        "driver.switch_to.window(driver.window_handles[-1])"
      ],
      "execution_count": null,
      "outputs": []
    },
    {
      "cell_type": "code",
      "metadata": {
        "id": "ottiskpn2TTy"
      },
      "source": [
        "search_html = driver.page_source\r\n",
        "soup = BeautifulSoup(search_html,'html.parser')\r\n",
        "title = soup.find_all(class_='sr_web')\r\n",
        "print(title)"
      ],
      "execution_count": null,
      "outputs": []
    },
    {
      "cell_type": "markdown",
      "metadata": {
        "id": "yibhgWGK2bl0"
      },
      "source": [
        "### Pandas DataFrame 으로 결과저장"
      ]
    },
    {
      "cell_type": "code",
      "metadata": {
        "id": "NPxt172D2akA"
      },
      "source": [
        "import pandas as pd\r\n",
        "\r\n",
        "result_list = []\r\n",
        "\r\n",
        "for i in title :\r\n",
        "    ititle = i.attrs['title']\r\n",
        "    ilink = i.attrs['href']\r\n",
        "    result_list.append([ititle,ilink])\r\n",
        "\r\n",
        "df = pd.DataFrame(result_list, columns = [\"title\",\"link\"])\r\n",
        "print(df)"
      ],
      "execution_count": null,
      "outputs": []
    }
  ]
}