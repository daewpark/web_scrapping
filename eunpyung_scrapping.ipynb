{
  "nbformat": 4,
  "nbformat_minor": 0,
  "metadata": {
    "colab": {
      "name": "eunpyung_scrapping.ipynb",
      "provenance": [],
      "collapsed_sections": [],
      "authorship_tag": "ABX9TyMqc7+Hs5q9KAzZpaD+A1pr",
      "include_colab_link": true
    },
    "kernelspec": {
      "name": "python3",
      "display_name": "Python 3"
    }
  },
  "cells": [
    {
      "cell_type": "markdown",
      "metadata": {
        "id": "view-in-github",
        "colab_type": "text"
      },
      "source": [
        "<a href=\"https://colab.research.google.com/github/daewpark/web_scrapping/blob/main/eunpyung_scrapping.ipynb\" target=\"_parent\"><img src=\"https://colab.research.google.com/assets/colab-badge.svg\" alt=\"Open In Colab\"/></a>"
      ]
    },
    {
      "cell_type": "markdown",
      "metadata": {
        "id": "ssBkX0yt7yJK"
      },
      "source": [
        "### Package 설치"
      ]
    },
    {
      "cell_type": "code",
      "metadata": {
        "id": "PJslbbZC3Oen",
        "outputId": "3cddd5ce-5408-43bf-e1fe-d3761b72905e",
        "colab": {
          "base_uri": "https://localhost:8080/"
        }
      },
      "source": [
        "!pip install selenium\r\n",
        "!apt-get update \r\n",
        "!apt install chromium-chromedriver\r\n",
        "!pip install smtplib"
      ],
      "execution_count": 1,
      "outputs": [
        {
          "output_type": "stream",
          "text": [
            "Collecting selenium\n",
            "\u001b[?25l  Downloading https://files.pythonhosted.org/packages/80/d6/4294f0b4bce4de0abf13e17190289f9d0613b0a44e5dd6a7f5ca98459853/selenium-3.141.0-py2.py3-none-any.whl (904kB)\n",
            "\r\u001b[K     |▍                               | 10kB 10.3MB/s eta 0:00:01\r\u001b[K     |▊                               | 20kB 16.3MB/s eta 0:00:01\r\u001b[K     |█                               | 30kB 21.5MB/s eta 0:00:01\r\u001b[K     |█▌                              | 40kB 22.1MB/s eta 0:00:01\r\u001b[K     |█▉                              | 51kB 15.9MB/s eta 0:00:01\r\u001b[K     |██▏                             | 61kB 17.2MB/s eta 0:00:01\r\u001b[K     |██▌                             | 71kB 12.5MB/s eta 0:00:01\r\u001b[K     |███                             | 81kB 13.5MB/s eta 0:00:01\r\u001b[K     |███▎                            | 92kB 14.1MB/s eta 0:00:01\r\u001b[K     |███▋                            | 102kB 13.5MB/s eta 0:00:01\r\u001b[K     |████                            | 112kB 13.5MB/s eta 0:00:01\r\u001b[K     |████▍                           | 122kB 13.5MB/s eta 0:00:01\r\u001b[K     |████▊                           | 133kB 13.5MB/s eta 0:00:01\r\u001b[K     |█████                           | 143kB 13.5MB/s eta 0:00:01\r\u001b[K     |█████▍                          | 153kB 13.5MB/s eta 0:00:01\r\u001b[K     |█████▉                          | 163kB 13.5MB/s eta 0:00:01\r\u001b[K     |██████▏                         | 174kB 13.5MB/s eta 0:00:01\r\u001b[K     |██████▌                         | 184kB 13.5MB/s eta 0:00:01\r\u001b[K     |██████▉                         | 194kB 13.5MB/s eta 0:00:01\r\u001b[K     |███████▎                        | 204kB 13.5MB/s eta 0:00:01\r\u001b[K     |███████▋                        | 215kB 13.5MB/s eta 0:00:01\r\u001b[K     |████████                        | 225kB 13.5MB/s eta 0:00:01\r\u001b[K     |████████▎                       | 235kB 13.5MB/s eta 0:00:01\r\u001b[K     |████████▊                       | 245kB 13.5MB/s eta 0:00:01\r\u001b[K     |█████████                       | 256kB 13.5MB/s eta 0:00:01\r\u001b[K     |█████████▍                      | 266kB 13.5MB/s eta 0:00:01\r\u001b[K     |█████████▉                      | 276kB 13.5MB/s eta 0:00:01\r\u001b[K     |██████████▏                     | 286kB 13.5MB/s eta 0:00:01\r\u001b[K     |██████████▌                     | 296kB 13.5MB/s eta 0:00:01\r\u001b[K     |██████████▉                     | 307kB 13.5MB/s eta 0:00:01\r\u001b[K     |███████████▎                    | 317kB 13.5MB/s eta 0:00:01\r\u001b[K     |███████████▋                    | 327kB 13.5MB/s eta 0:00:01\r\u001b[K     |████████████                    | 337kB 13.5MB/s eta 0:00:01\r\u001b[K     |████████████▎                   | 348kB 13.5MB/s eta 0:00:01\r\u001b[K     |████████████▊                   | 358kB 13.5MB/s eta 0:00:01\r\u001b[K     |█████████████                   | 368kB 13.5MB/s eta 0:00:01\r\u001b[K     |█████████████▍                  | 378kB 13.5MB/s eta 0:00:01\r\u001b[K     |█████████████▊                  | 389kB 13.5MB/s eta 0:00:01\r\u001b[K     |██████████████▏                 | 399kB 13.5MB/s eta 0:00:01\r\u001b[K     |██████████████▌                 | 409kB 13.5MB/s eta 0:00:01\r\u001b[K     |██████████████▉                 | 419kB 13.5MB/s eta 0:00:01\r\u001b[K     |███████████████▏                | 430kB 13.5MB/s eta 0:00:01\r\u001b[K     |███████████████▋                | 440kB 13.5MB/s eta 0:00:01\r\u001b[K     |████████████████                | 450kB 13.5MB/s eta 0:00:01\r\u001b[K     |████████████████▎               | 460kB 13.5MB/s eta 0:00:01\r\u001b[K     |████████████████▋               | 471kB 13.5MB/s eta 0:00:01\r\u001b[K     |█████████████████               | 481kB 13.5MB/s eta 0:00:01\r\u001b[K     |█████████████████▍              | 491kB 13.5MB/s eta 0:00:01\r\u001b[K     |█████████████████▊              | 501kB 13.5MB/s eta 0:00:01\r\u001b[K     |██████████████████▏             | 512kB 13.5MB/s eta 0:00:01\r\u001b[K     |██████████████████▌             | 522kB 13.5MB/s eta 0:00:01\r\u001b[K     |██████████████████▉             | 532kB 13.5MB/s eta 0:00:01\r\u001b[K     |███████████████████▏            | 542kB 13.5MB/s eta 0:00:01\r\u001b[K     |███████████████████▋            | 552kB 13.5MB/s eta 0:00:01\r\u001b[K     |████████████████████            | 563kB 13.5MB/s eta 0:00:01\r\u001b[K     |████████████████████▎           | 573kB 13.5MB/s eta 0:00:01\r\u001b[K     |████████████████████▋           | 583kB 13.5MB/s eta 0:00:01\r\u001b[K     |█████████████████████           | 593kB 13.5MB/s eta 0:00:01\r\u001b[K     |█████████████████████▍          | 604kB 13.5MB/s eta 0:00:01\r\u001b[K     |█████████████████████▊          | 614kB 13.5MB/s eta 0:00:01\r\u001b[K     |██████████████████████          | 624kB 13.5MB/s eta 0:00:01\r\u001b[K     |██████████████████████▌         | 634kB 13.5MB/s eta 0:00:01\r\u001b[K     |██████████████████████▉         | 645kB 13.5MB/s eta 0:00:01\r\u001b[K     |███████████████████████▏        | 655kB 13.5MB/s eta 0:00:01\r\u001b[K     |███████████████████████▌        | 665kB 13.5MB/s eta 0:00:01\r\u001b[K     |████████████████████████        | 675kB 13.5MB/s eta 0:00:01\r\u001b[K     |████████████████████████▎       | 686kB 13.5MB/s eta 0:00:01\r\u001b[K     |████████████████████████▋       | 696kB 13.5MB/s eta 0:00:01\r\u001b[K     |█████████████████████████       | 706kB 13.5MB/s eta 0:00:01\r\u001b[K     |█████████████████████████▍      | 716kB 13.5MB/s eta 0:00:01\r\u001b[K     |█████████████████████████▊      | 727kB 13.5MB/s eta 0:00:01\r\u001b[K     |██████████████████████████      | 737kB 13.5MB/s eta 0:00:01\r\u001b[K     |██████████████████████████▍     | 747kB 13.5MB/s eta 0:00:01\r\u001b[K     |██████████████████████████▉     | 757kB 13.5MB/s eta 0:00:01\r\u001b[K     |███████████████████████████▏    | 768kB 13.5MB/s eta 0:00:01\r\u001b[K     |███████████████████████████▌    | 778kB 13.5MB/s eta 0:00:01\r\u001b[K     |████████████████████████████    | 788kB 13.5MB/s eta 0:00:01\r\u001b[K     |████████████████████████████▎   | 798kB 13.5MB/s eta 0:00:01\r\u001b[K     |████████████████████████████▋   | 808kB 13.5MB/s eta 0:00:01\r\u001b[K     |█████████████████████████████   | 819kB 13.5MB/s eta 0:00:01\r\u001b[K     |█████████████████████████████▍  | 829kB 13.5MB/s eta 0:00:01\r\u001b[K     |█████████████████████████████▊  | 839kB 13.5MB/s eta 0:00:01\r\u001b[K     |██████████████████████████████  | 849kB 13.5MB/s eta 0:00:01\r\u001b[K     |██████████████████████████████▍ | 860kB 13.5MB/s eta 0:00:01\r\u001b[K     |██████████████████████████████▉ | 870kB 13.5MB/s eta 0:00:01\r\u001b[K     |███████████████████████████████▏| 880kB 13.5MB/s eta 0:00:01\r\u001b[K     |███████████████████████████████▌| 890kB 13.5MB/s eta 0:00:01\r\u001b[K     |███████████████████████████████▉| 901kB 13.5MB/s eta 0:00:01\r\u001b[K     |████████████████████████████████| 911kB 13.5MB/s \n",
            "\u001b[?25hRequirement already satisfied: urllib3 in /usr/local/lib/python3.7/dist-packages (from selenium) (1.24.3)\n",
            "Installing collected packages: selenium\n",
            "Successfully installed selenium-3.141.0\n",
            "Hit:1 http://archive.ubuntu.com/ubuntu bionic InRelease\n",
            "Get:2 http://archive.ubuntu.com/ubuntu bionic-updates InRelease [88.7 kB]\n",
            "Get:3 http://archive.ubuntu.com/ubuntu bionic-backports InRelease [74.6 kB]\n",
            "Get:4 https://cloud.r-project.org/bin/linux/ubuntu bionic-cran40/ InRelease [3,626 B]\n",
            "Get:5 http://ppa.launchpad.net/c2d4u.team/c2d4u4.0+/ubuntu bionic InRelease [15.9 kB]\n",
            "Hit:6 http://ppa.launchpad.net/cran/libgit2/ubuntu bionic InRelease\n",
            "Hit:7 http://ppa.launchpad.net/deadsnakes/ppa/ubuntu bionic InRelease\n",
            "Hit:8 http://ppa.launchpad.net/graphics-drivers/ppa/ubuntu bionic InRelease\n",
            "Get:9 http://security.ubuntu.com/ubuntu bionic-security InRelease [88.7 kB]\n",
            "Ign:10 https://developer.download.nvidia.com/compute/cuda/repos/ubuntu1804/x86_64  InRelease\n",
            "Ign:11 https://developer.download.nvidia.com/compute/machine-learning/repos/ubuntu1804/x86_64  InRelease\n",
            "Hit:12 https://developer.download.nvidia.com/compute/cuda/repos/ubuntu1804/x86_64  Release\n",
            "Hit:13 https://developer.download.nvidia.com/compute/machine-learning/repos/ubuntu1804/x86_64  Release\n",
            "Get:14 http://archive.ubuntu.com/ubuntu bionic-updates/main amd64 Packages [2,395 kB]\n",
            "Get:15 http://archive.ubuntu.com/ubuntu bionic-updates/universe amd64 Packages [2,163 kB]\n",
            "Get:16 http://ppa.launchpad.net/c2d4u.team/c2d4u4.0+/ubuntu bionic/main Sources [1,738 kB]\n",
            "Get:17 http://ppa.launchpad.net/c2d4u.team/c2d4u4.0+/ubuntu bionic/main amd64 Packages [889 kB]\n",
            "Fetched 7,457 kB in 2s (3,039 kB/s)\n",
            "Reading package lists... Done\n",
            "Reading package lists... Done\n",
            "Building dependency tree       \n",
            "Reading state information... Done\n",
            "The following additional packages will be installed:\n",
            "  chromium-browser chromium-browser-l10n chromium-codecs-ffmpeg-extra\n",
            "Suggested packages:\n",
            "  webaccounts-chromium-extension unity-chromium-extension adobe-flashplugin\n",
            "The following NEW packages will be installed:\n",
            "  chromium-browser chromium-browser-l10n chromium-chromedriver\n",
            "  chromium-codecs-ffmpeg-extra\n",
            "0 upgraded, 4 newly installed, 0 to remove and 13 not upgraded.\n",
            "Need to get 81.0 MB of archives.\n",
            "After this operation, 273 MB of additional disk space will be used.\n",
            "Get:1 http://archive.ubuntu.com/ubuntu bionic-updates/universe amd64 chromium-codecs-ffmpeg-extra amd64 87.0.4280.66-0ubuntu0.18.04.1 [1,122 kB]\n",
            "Get:2 http://archive.ubuntu.com/ubuntu bionic-updates/universe amd64 chromium-browser amd64 87.0.4280.66-0ubuntu0.18.04.1 [71.7 MB]\n",
            "Get:3 http://archive.ubuntu.com/ubuntu bionic-updates/universe amd64 chromium-browser-l10n all 87.0.4280.66-0ubuntu0.18.04.1 [3,716 kB]\n",
            "Get:4 http://archive.ubuntu.com/ubuntu bionic-updates/universe amd64 chromium-chromedriver amd64 87.0.4280.66-0ubuntu0.18.04.1 [4,488 kB]\n",
            "Fetched 81.0 MB in 1s (54.5 MB/s)\n",
            "Selecting previously unselected package chromium-codecs-ffmpeg-extra.\n",
            "(Reading database ... 149406 files and directories currently installed.)\n",
            "Preparing to unpack .../chromium-codecs-ffmpeg-extra_87.0.4280.66-0ubuntu0.18.04.1_amd64.deb ...\n",
            "Unpacking chromium-codecs-ffmpeg-extra (87.0.4280.66-0ubuntu0.18.04.1) ...\n",
            "Selecting previously unselected package chromium-browser.\n",
            "Preparing to unpack .../chromium-browser_87.0.4280.66-0ubuntu0.18.04.1_amd64.deb ...\n",
            "Unpacking chromium-browser (87.0.4280.66-0ubuntu0.18.04.1) ...\n",
            "Selecting previously unselected package chromium-browser-l10n.\n",
            "Preparing to unpack .../chromium-browser-l10n_87.0.4280.66-0ubuntu0.18.04.1_all.deb ...\n",
            "Unpacking chromium-browser-l10n (87.0.4280.66-0ubuntu0.18.04.1) ...\n",
            "Selecting previously unselected package chromium-chromedriver.\n",
            "Preparing to unpack .../chromium-chromedriver_87.0.4280.66-0ubuntu0.18.04.1_amd64.deb ...\n",
            "Unpacking chromium-chromedriver (87.0.4280.66-0ubuntu0.18.04.1) ...\n",
            "Setting up chromium-codecs-ffmpeg-extra (87.0.4280.66-0ubuntu0.18.04.1) ...\n",
            "Setting up chromium-browser (87.0.4280.66-0ubuntu0.18.04.1) ...\n",
            "update-alternatives: using /usr/bin/chromium-browser to provide /usr/bin/x-www-browser (x-www-browser) in auto mode\n",
            "update-alternatives: using /usr/bin/chromium-browser to provide /usr/bin/gnome-www-browser (gnome-www-browser) in auto mode\n",
            "Setting up chromium-chromedriver (87.0.4280.66-0ubuntu0.18.04.1) ...\n",
            "Setting up chromium-browser-l10n (87.0.4280.66-0ubuntu0.18.04.1) ...\n",
            "Processing triggers for hicolor-icon-theme (0.17-2) ...\n",
            "Processing triggers for mime-support (3.60ubuntu1) ...\n",
            "Processing triggers for man-db (2.8.3-2ubuntu0.1) ...\n"
          ],
          "name": "stdout"
        }
      ]
    },
    {
      "cell_type": "markdown",
      "metadata": {
        "id": "Fh10W1Gt728A"
      },
      "source": [
        "### Pactkage 호출 및 로드"
      ]
    },
    {
      "cell_type": "code",
      "metadata": {
        "id": "mFKqEimB1_Yw",
        "outputId": "43fe10ee-ea3a-4c01-ff0a-9d0d9ec2c38d",
        "colab": {
          "base_uri": "https://localhost:8080/"
        }
      },
      "source": [
        "from selenium import webdriver\r\n",
        "from selenium.webdriver.support import expected_conditions as EC\r\n",
        "import time\r\n",
        "\r\n",
        "chrome_options = webdriver.ChromeOptions()\r\n",
        "chrome_options.add_argument('--headless')\r\n",
        "chrome_options.add_argument('--no-sandbox')\r\n",
        "chrome_options.add_argument('--disable-dev-shm-usage')\r\n",
        "chrome_options.add_argument('--window-size=1920x1080')\r\n",
        "driver =webdriver.Chrome('chromedriver',chrome_options=chrome_options)"
      ],
      "execution_count": 2,
      "outputs": [
        {
          "output_type": "stream",
          "text": [
            "/usr/local/lib/python3.7/dist-packages/ipykernel_launcher.py:10: DeprecationWarning: use options instead of chrome_options\n",
            "  # Remove the CWD from sys.path while we load stuff.\n"
          ],
          "name": "stderr"
        }
      ]
    },
    {
      "cell_type": "code",
      "metadata": {
        "id": "SlfpTX4O2KE0"
      },
      "source": [
        "import urllib.request\r\n",
        "from bs4 import BeautifulSoup\r\n",
        "import re"
      ],
      "execution_count": 3,
      "outputs": []
    },
    {
      "cell_type": "markdown",
      "metadata": {
        "id": "h_qafZRn8D3S"
      },
      "source": [
        "### Selenium WebDriver 구동 및 검색결과 Parsing"
      ]
    },
    {
      "cell_type": "code",
      "metadata": {
        "id": "vFZY--vx2LlB"
      },
      "source": [
        "url = \"https://www.ep.go.kr/CmsWeb/viewPage.req?idx=PG0000001180\"\r\n",
        "driver.get(url)\r\n",
        "time.sleep(1)"
      ],
      "execution_count": 4,
      "outputs": []
    },
    {
      "cell_type": "code",
      "metadata": {
        "id": "suE330ae2SA9"
      },
      "source": [
        "# 로드 된 웹페이지에서 검색창의 Name 을 찾아서 검색어 입력\r\n",
        "search = driver.find_element_by_name(\"searTot\")\r\n",
        "search.send_keys(\"원아모집\") # headless 모드에서 chrome_options.add_argument('--window-size=1920x1080') 옵션이 없으면 에러 발생하므로 옵션을 반드시 넣을 것\r\n",
        "search.submit()\r\n"
      ],
      "execution_count": 5,
      "outputs": []
    },
    {
      "cell_type": "code",
      "metadata": {
        "id": "ottiskpn2TTy"
      },
      "source": [
        "# 검색결과 파싱\r\n",
        "driver.switch_to.window(driver.window_handles[-1]) #검색결과가 다른 탭에서 열리므로 새롭게 열린 탭으로 이동\r\n",
        "search_html = driver.page_source\r\n",
        "soup = BeautifulSoup(search_html,'html.parser')\r\n",
        "title = soup.find_all(class_='btnS_nw')"
      ],
      "execution_count": 6,
      "outputs": []
    },
    {
      "cell_type": "markdown",
      "metadata": {
        "id": "yibhgWGK2bl0"
      },
      "source": [
        "### Pandas DataFrame 으로 결과저장"
      ]
    },
    {
      "cell_type": "code",
      "metadata": {
        "id": "NPxt172D2akA",
        "outputId": "9d95302c-6741-4c83-88a5-3ad6f99067dc",
        "colab": {
          "base_uri": "https://localhost:8080/"
        }
      },
      "source": [
        "import pandas as pd\r\n",
        "\r\n",
        "result_list = []\r\n",
        "\r\n",
        "for i in title :\r\n",
        "    ititle = i.attrs['title']\r\n",
        "    ilink = i.attrs['href']\r\n",
        "    result_list.append([ititle,ilink])\r\n",
        "\r\n",
        "df = pd.DataFrame(result_list, columns = [\"title\",\"link\"])\r\n",
        "print(df)"
      ],
      "execution_count": 7,
      "outputs": [
        {
          "output_type": "stream",
          "text": [
            "                      title                                               link\n",
            "0   구립 물빛캐슬어린이집 원아모집 안내새창열기  http://www.ep.go.kr/CmsWeb/viewPage.req?idx=PG...\n",
            "1  『구립 응암행복어린이집』원아모집 안내새창열기  http://www.ep.go.kr/CmsWeb/viewPage.req?idx=PG...\n",
            "2  『구립 응암샛별어린이집』원아모집 안내새창열기  http://www.ep.go.kr/CmsWeb/viewPage.req?idx=PG...\n",
            "3    구립 이든어린이집 원아 모집 안내새창열기  http://www.ep.go.kr/CmsWeb/viewPage.req?idx=PG...\n"
          ],
          "name": "stdout"
        }
      ]
    },
    {
      "cell_type": "markdown",
      "metadata": {
        "id": "nctmFntsqPor"
      },
      "source": [
        "### 스크래핑 결과 메일로 보내기"
      ]
    },
    {
      "cell_type": "code",
      "metadata": {
        "id": "U0Oujvzzp5rj"
      },
      "source": [
        "import smtplib;\r\n",
        "# from email.mime.base import MIMEBase;\r\n",
        "# 메일 메시지를 만드는 모듈 (MIMEBase는 이하 MIMEMultipart, MIMEText, MIMEApplication, MIMEImage, MIMEAudio)의 상위 모듈이다.\r\n",
        "# 굳이 선언할 필요없다.\r\n",
        "\r\n",
        "from email.mime.multipart import MIMEMultipart                                  # 메일의 Data 영역의 메시지를 만드는 모듈 (MIMEText, MIMEApplication, MIMEImage, MIMEAudio가 attach되면 바운더리 형식으로 변환)\r\n",
        "from email.mime.text import MIMEText                                            # 메일의 본문 내용을 만드는 모듈\r\n",
        "from email.mime.application import MIMEApplication                              # 메일의 첨부 파일을 base64 형식으로 변환\r\n",
        "from email.mime.image import MIMEImage                                          # 메일의 이미지 파일을 base64 형식으로 변환(Content-ID 생성)c\r\n",
        "from email.mime.audio import MIMEAudio                                          # 메일의 음악 파일을 base64 형식으로 변환(Content-ID 생성)\r\n",
        "import io # 파일 IO"
      ],
      "execution_count": null,
      "outputs": []
    },
    {
      "cell_type": "code",
      "metadata": {
        "id": "0cdbNMVQrxN1",
        "outputId": "e1aac2f9-84b9-42b4-9d33-7c0e40e31d64",
        "colab": {
          "base_uri": "https://localhost:8080/"
        }
      },
      "source": [
        ""
      ],
      "execution_count": 10,
      "outputs": [
        {
          "output_type": "stream",
          "text": [
            "2021-02-25\n"
          ],
          "name": "stdout"
        }
      ]
    },
    {
      "cell_type": "code",
      "metadata": {
        "id": "hoRHQ6jiu9oR"
      },
      "source": [
        "#메일 발송시간을 알리기 위하여 timestamp 라이브러리 호출\r\n",
        "import datetime as dt\r\n",
        "today = dt.date.today()\r\n",
        "today_string = today.strftime(\"%Y-%m-%d\")\r\n",
        "\r\n",
        "# 메일 서버와 통신하기 전에 메시지를 만든다.\r\n",
        "data = MIMEMultipart()\r\n",
        "data['From'] = \"dwn.park@gmail.com\"\r\n",
        "data['To'] = \"dwn.park@gmail.com\"\r\n",
        "#data['Cc'] = \"nowonbun@gmail.com\"\r\n",
        "#data['Bcc'] = \"nowonbun@gmail.com\"\r\n",
        "data['Subject'] = \"은평구청 원아모집 공고 알림봇\" + today_string\r\n",
        "print (data['Subject'])"
      ],
      "execution_count": null,
      "outputs": []
    },
    {
      "cell_type": "code",
      "metadata": {
        "id": "wE0PjptwrzS7"
      },
      "source": [
        "# 첨부 파일 추가\r\n",
        "with open(\"test.xlsx\", \"rb\") as fp :\r\n",
        "    part = MIMEApplication(fp.read(), Name = \"test.xlsx\") # Name은 메일 수신자에서 설정되는 파일 이름\r\n",
        "    data.attach (part) # Data 영역의 메시지에 바운더리 추가\r\n",
        "\r\n",
        "# 이미지 파일 추가\r\n",
        "with open(\"capture.png\", 'rb') as fp:\r\n",
        "\r\n",
        "# Name은 메일 수신자에서 설정되는 파일 이름\r\n",
        "img = MIMEImage(fp.read(), Name = \"capture.png\")\r\n",
        "\r\n",
        "# 해더에 Content-ID 추가(본문 내용에서 cid로 링크를 걸 수 있다.)\r\n",
        "img.add_header('Content-ID', '<capture>')\r\n",
        "\r\n",
        "# Data 영역의 메시지에 바운더리 추가\r\n",
        "data.attach(img)\r\n",
        "\r\n",
        "# 텍스트 형식의 본문 내용\r\n",
        "#msg = MIMEText(\"Hello world\", 'plain');\r\n",
        "\r\n",
        "# Html 형식의 본문 내용 (cid로 이미 첨부 파일을 링크했다.)\r\n",
        "msg = MIMEText(\"Hello Test<br /><img src='cid:capture'>\", 'html')\r\n",
        "\r\n",
        "# Data 영역의 메시지에 바운더리 추가\r\n",
        "data.attach(msg);\r\n",
        "\r\n",
        "# 메시지를 확인한다.\r\n",
        "print(data);\r\n"
      ],
      "execution_count": null,
      "outputs": []
    },
    {
      "cell_type": "code",
      "metadata": {
        "id": "h4PLUSpwr9Kd"
      },
      "source": [
        "\r\n",
        "server = smtplib.SMTP_SSL('smtp.gmail.com',465); # 메일 서버와 telnet 통신 개시\r\n",
        "#server = smtplib.SMTP('smtp.gmail.com',587);\r\n",
        "# 메일 통신시 디버그\r\n",
        "server.set_debuglevel(1);\r\n",
        "# 헤로 한번 해주자.(의미 없음)\r\n",
        "server.ehlo();\r\n",
        "# tls 설정 주문 - tls 587 포트의 경우\r\n",
        "#server.starttls();\r\n",
        "# 헤로 또 해주자.(의미 없음)\r\n",
        "server.ehlo();\r\n",
        "# 로그인 한다.\r\n",
        "server.login(\"id\", \"password\");\r\n",
        "# 심심하니 또 헤로 해주자.(의미 없음)\r\n",
        "server.ehlo();\r\n",
        "# MAIL(송신자) 설정\r\n",
        "sender = data['From'];\r\n",
        "# RCPT(수신자), 리스트로 보낸다.\r\n",
        "# 수신자 추가\r\n",
        "receiver = data['To'].split(\",\");\r\n",
        "# 참조자 추가\r\n",
        "if data['Cc'] is not None:\r\n",
        "receiver += data['Cc'].split(\",\");\r\n",
        "# 숨은 참조자 추가\r\n",
        "if data['Bcc'] is not None:\r\n",
        "receiver += data['Bcc'].split(\",\");\r\n",
        "# 메일 프로토콜 상 MAIL, RCPT, DATA 순으로 메시지를 보내야 하는데 이걸 sendmail함수에서 자동으로 해준다.\r\n",
        "server.sendmail(sender, receiver, data.as_string());\r\n",
        "# QUIT을 보내고 접속을 종료하고 메일을 보낸다.\r\n",
        "server.quit();\r\n"
      ],
      "execution_count": null,
      "outputs": []
    }
  ]
}