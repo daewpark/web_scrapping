{
  "nbformat": 4,
  "nbformat_minor": 0,
  "metadata": {
    "colab": {
      "name": "eunpyung_scrapping.ipynb",
      "provenance": [],
      "collapsed_sections": [],
      "authorship_tag": "ABX9TyP6SHw9YUA1aaF8m3fZsl3b",
      "include_colab_link": true
    },
    "kernelspec": {
      "name": "python3",
      "display_name": "Python 3"
    }
  },
  "cells": [
    {
      "cell_type": "markdown",
      "metadata": {
        "id": "view-in-github",
        "colab_type": "text"
      },
      "source": [
        "<a href=\"https://colab.research.google.com/github/daewpark/web_scrapping/blob/main/eunpyung_scrapping.ipynb\" target=\"_parent\"><img src=\"https://colab.research.google.com/assets/colab-badge.svg\" alt=\"Open In Colab\"/></a>"
      ]
    },
    {
      "cell_type": "markdown",
      "metadata": {
        "id": "ssBkX0yt7yJK"
      },
      "source": [
        "### Package 설치"
      ]
    },
    {
      "cell_type": "code",
      "metadata": {
        "id": "PJslbbZC3Oen",
        "colab": {
          "base_uri": "https://localhost:8080/"
        },
        "outputId": "7e2f78d9-8d74-4d6f-b052-5b36ef17c202"
      },
      "source": [
        "!pip install selenium\r\n",
        "!apt-get update \r\n",
        "!apt install chromium-chromedriver"
      ],
      "execution_count": 2,
      "outputs": [
        {
          "output_type": "stream",
          "text": [
            "Collecting selenium\n",
            "\u001b[?25l  Downloading https://files.pythonhosted.org/packages/80/d6/4294f0b4bce4de0abf13e17190289f9d0613b0a44e5dd6a7f5ca98459853/selenium-3.141.0-py2.py3-none-any.whl (904kB)\n",
            "\r\u001b[K     |▍                               | 10kB 9.8MB/s eta 0:00:01\r\u001b[K     |▊                               | 20kB 11.6MB/s eta 0:00:01\r\u001b[K     |█                               | 30kB 7.8MB/s eta 0:00:01\r\u001b[K     |█▌                              | 40kB 8.1MB/s eta 0:00:01\r\u001b[K     |█▉                              | 51kB 4.3MB/s eta 0:00:01\r\u001b[K     |██▏                             | 61kB 5.0MB/s eta 0:00:01\r\u001b[K     |██▌                             | 71kB 5.0MB/s eta 0:00:01\r\u001b[K     |███                             | 81kB 5.3MB/s eta 0:00:01\r\u001b[K     |███▎                            | 92kB 5.6MB/s eta 0:00:01\r\u001b[K     |███▋                            | 102kB 4.1MB/s eta 0:00:01\r\u001b[K     |████                            | 112kB 4.1MB/s eta 0:00:01\r\u001b[K     |████▍                           | 122kB 4.1MB/s eta 0:00:01\r\u001b[K     |████▊                           | 133kB 4.1MB/s eta 0:00:01\r\u001b[K     |█████                           | 143kB 4.1MB/s eta 0:00:01\r\u001b[K     |█████▍                          | 153kB 4.1MB/s eta 0:00:01\r\u001b[K     |█████▉                          | 163kB 4.1MB/s eta 0:00:01\r\u001b[K     |██████▏                         | 174kB 4.1MB/s eta 0:00:01\r\u001b[K     |██████▌                         | 184kB 4.1MB/s eta 0:00:01\r\u001b[K     |██████▉                         | 194kB 4.1MB/s eta 0:00:01\r\u001b[K     |███████▎                        | 204kB 4.1MB/s eta 0:00:01\r\u001b[K     |███████▋                        | 215kB 4.1MB/s eta 0:00:01\r\u001b[K     |████████                        | 225kB 4.1MB/s eta 0:00:01\r\u001b[K     |████████▎                       | 235kB 4.1MB/s eta 0:00:01\r\u001b[K     |████████▊                       | 245kB 4.1MB/s eta 0:00:01\r\u001b[K     |█████████                       | 256kB 4.1MB/s eta 0:00:01\r\u001b[K     |█████████▍                      | 266kB 4.1MB/s eta 0:00:01\r\u001b[K     |█████████▉                      | 276kB 4.1MB/s eta 0:00:01\r\u001b[K     |██████████▏                     | 286kB 4.1MB/s eta 0:00:01\r\u001b[K     |██████████▌                     | 296kB 4.1MB/s eta 0:00:01\r\u001b[K     |██████████▉                     | 307kB 4.1MB/s eta 0:00:01\r\u001b[K     |███████████▎                    | 317kB 4.1MB/s eta 0:00:01\r\u001b[K     |███████████▋                    | 327kB 4.1MB/s eta 0:00:01\r\u001b[K     |████████████                    | 337kB 4.1MB/s eta 0:00:01\r\u001b[K     |████████████▎                   | 348kB 4.1MB/s eta 0:00:01\r\u001b[K     |████████████▊                   | 358kB 4.1MB/s eta 0:00:01\r\u001b[K     |█████████████                   | 368kB 4.1MB/s eta 0:00:01\r\u001b[K     |█████████████▍                  | 378kB 4.1MB/s eta 0:00:01\r\u001b[K     |█████████████▊                  | 389kB 4.1MB/s eta 0:00:01\r\u001b[K     |██████████████▏                 | 399kB 4.1MB/s eta 0:00:01\r\u001b[K     |██████████████▌                 | 409kB 4.1MB/s eta 0:00:01\r\u001b[K     |██████████████▉                 | 419kB 4.1MB/s eta 0:00:01\r\u001b[K     |███████████████▏                | 430kB 4.1MB/s eta 0:00:01\r\u001b[K     |███████████████▋                | 440kB 4.1MB/s eta 0:00:01\r\u001b[K     |████████████████                | 450kB 4.1MB/s eta 0:00:01\r\u001b[K     |████████████████▎               | 460kB 4.1MB/s eta 0:00:01\r\u001b[K     |████████████████▋               | 471kB 4.1MB/s eta 0:00:01\r\u001b[K     |█████████████████               | 481kB 4.1MB/s eta 0:00:01\r\u001b[K     |█████████████████▍              | 491kB 4.1MB/s eta 0:00:01\r\u001b[K     |█████████████████▊              | 501kB 4.1MB/s eta 0:00:01\r\u001b[K     |██████████████████▏             | 512kB 4.1MB/s eta 0:00:01\r\u001b[K     |██████████████████▌             | 522kB 4.1MB/s eta 0:00:01\r\u001b[K     |██████████████████▉             | 532kB 4.1MB/s eta 0:00:01\r\u001b[K     |███████████████████▏            | 542kB 4.1MB/s eta 0:00:01\r\u001b[K     |███████████████████▋            | 552kB 4.1MB/s eta 0:00:01\r\u001b[K     |████████████████████            | 563kB 4.1MB/s eta 0:00:01\r\u001b[K     |████████████████████▎           | 573kB 4.1MB/s eta 0:00:01\r\u001b[K     |████████████████████▋           | 583kB 4.1MB/s eta 0:00:01\r\u001b[K     |█████████████████████           | 593kB 4.1MB/s eta 0:00:01\r\u001b[K     |█████████████████████▍          | 604kB 4.1MB/s eta 0:00:01\r\u001b[K     |█████████████████████▊          | 614kB 4.1MB/s eta 0:00:01\r\u001b[K     |██████████████████████          | 624kB 4.1MB/s eta 0:00:01\r\u001b[K     |██████████████████████▌         | 634kB 4.1MB/s eta 0:00:01\r\u001b[K     |██████████████████████▉         | 645kB 4.1MB/s eta 0:00:01\r\u001b[K     |███████████████████████▏        | 655kB 4.1MB/s eta 0:00:01\r\u001b[K     |███████████████████████▌        | 665kB 4.1MB/s eta 0:00:01\r\u001b[K     |████████████████████████        | 675kB 4.1MB/s eta 0:00:01\r\u001b[K     |████████████████████████▎       | 686kB 4.1MB/s eta 0:00:01\r\u001b[K     |████████████████████████▋       | 696kB 4.1MB/s eta 0:00:01\r\u001b[K     |█████████████████████████       | 706kB 4.1MB/s eta 0:00:01\r\u001b[K     |█████████████████████████▍      | 716kB 4.1MB/s eta 0:00:01\r\u001b[K     |█████████████████████████▊      | 727kB 4.1MB/s eta 0:00:01\r\u001b[K     |██████████████████████████      | 737kB 4.1MB/s eta 0:00:01\r\u001b[K     |██████████████████████████▍     | 747kB 4.1MB/s eta 0:00:01\r\u001b[K     |██████████████████████████▉     | 757kB 4.1MB/s eta 0:00:01\r\u001b[K     |███████████████████████████▏    | 768kB 4.1MB/s eta 0:00:01\r\u001b[K     |███████████████████████████▌    | 778kB 4.1MB/s eta 0:00:01\r\u001b[K     |████████████████████████████    | 788kB 4.1MB/s eta 0:00:01\r\u001b[K     |████████████████████████████▎   | 798kB 4.1MB/s eta 0:00:01\r\u001b[K     |████████████████████████████▋   | 808kB 4.1MB/s eta 0:00:01\r\u001b[K     |█████████████████████████████   | 819kB 4.1MB/s eta 0:00:01\r\u001b[K     |█████████████████████████████▍  | 829kB 4.1MB/s eta 0:00:01\r\u001b[K     |█████████████████████████████▊  | 839kB 4.1MB/s eta 0:00:01\r\u001b[K     |██████████████████████████████  | 849kB 4.1MB/s eta 0:00:01\r\u001b[K     |██████████████████████████████▍ | 860kB 4.1MB/s eta 0:00:01\r\u001b[K     |██████████████████████████████▉ | 870kB 4.1MB/s eta 0:00:01\r\u001b[K     |███████████████████████████████▏| 880kB 4.1MB/s eta 0:00:01\r\u001b[K     |███████████████████████████████▌| 890kB 4.1MB/s eta 0:00:01\r\u001b[K     |███████████████████████████████▉| 901kB 4.1MB/s eta 0:00:01\r\u001b[K     |████████████████████████████████| 911kB 4.1MB/s \n",
            "\u001b[?25hRequirement already satisfied: urllib3 in /usr/local/lib/python3.7/dist-packages (from selenium) (1.24.3)\n",
            "Installing collected packages: selenium\n",
            "Successfully installed selenium-3.141.0\n",
            "Get:1 http://security.ubuntu.com/ubuntu bionic-security InRelease [88.7 kB]\n",
            "Ign:2 https://developer.download.nvidia.com/compute/cuda/repos/ubuntu1804/x86_64  InRelease\n",
            "Get:3 https://cloud.r-project.org/bin/linux/ubuntu bionic-cran40/ InRelease [3,626 B]\n",
            "Get:4 http://ppa.launchpad.net/c2d4u.team/c2d4u4.0+/ubuntu bionic InRelease [15.9 kB]\n",
            "Ign:5 https://developer.download.nvidia.com/compute/machine-learning/repos/ubuntu1804/x86_64  InRelease\n",
            "Hit:6 https://developer.download.nvidia.com/compute/cuda/repos/ubuntu1804/x86_64  Release\n",
            "Hit:7 http://archive.ubuntu.com/ubuntu bionic InRelease\n",
            "Hit:8 https://developer.download.nvidia.com/compute/machine-learning/repos/ubuntu1804/x86_64  Release\n",
            "Get:9 http://archive.ubuntu.com/ubuntu bionic-updates InRelease [88.7 kB]\n",
            "Hit:10 http://ppa.launchpad.net/cran/libgit2/ubuntu bionic InRelease\n",
            "Get:11 http://archive.ubuntu.com/ubuntu bionic-backports InRelease [74.6 kB]\n",
            "Hit:12 http://ppa.launchpad.net/deadsnakes/ppa/ubuntu bionic InRelease\n",
            "Hit:13 http://ppa.launchpad.net/graphics-drivers/ppa/ubuntu bionic InRelease\n",
            "Get:16 http://ppa.launchpad.net/c2d4u.team/c2d4u4.0+/ubuntu bionic/main Sources [1,738 kB]\n",
            "Get:17 http://archive.ubuntu.com/ubuntu bionic-updates/main amd64 Packages [2,395 kB]\n",
            "Get:18 http://ppa.launchpad.net/c2d4u.team/c2d4u4.0+/ubuntu bionic/main amd64 Packages [889 kB]\n",
            "Get:19 http://archive.ubuntu.com/ubuntu bionic-updates/universe amd64 Packages [2,163 kB]\n",
            "Fetched 7,457 kB in 3s (2,421 kB/s)\n",
            "Reading package lists... Done\n",
            "Reading package lists... Done\n",
            "Building dependency tree       \n",
            "Reading state information... Done\n",
            "The following additional packages will be installed:\n",
            "  chromium-browser chromium-browser-l10n chromium-codecs-ffmpeg-extra\n",
            "Suggested packages:\n",
            "  webaccounts-chromium-extension unity-chromium-extension adobe-flashplugin\n",
            "The following NEW packages will be installed:\n",
            "  chromium-browser chromium-browser-l10n chromium-chromedriver\n",
            "  chromium-codecs-ffmpeg-extra\n",
            "0 upgraded, 4 newly installed, 0 to remove and 13 not upgraded.\n",
            "Need to get 81.0 MB of archives.\n",
            "After this operation, 273 MB of additional disk space will be used.\n",
            "Get:1 http://archive.ubuntu.com/ubuntu bionic-updates/universe amd64 chromium-codecs-ffmpeg-extra amd64 87.0.4280.66-0ubuntu0.18.04.1 [1,122 kB]\n",
            "Get:2 http://archive.ubuntu.com/ubuntu bionic-updates/universe amd64 chromium-browser amd64 87.0.4280.66-0ubuntu0.18.04.1 [71.7 MB]\n",
            "Get:3 http://archive.ubuntu.com/ubuntu bionic-updates/universe amd64 chromium-browser-l10n all 87.0.4280.66-0ubuntu0.18.04.1 [3,716 kB]\n",
            "Get:4 http://archive.ubuntu.com/ubuntu bionic-updates/universe amd64 chromium-chromedriver amd64 87.0.4280.66-0ubuntu0.18.04.1 [4,488 kB]\n",
            "Fetched 81.0 MB in 3s (24.4 MB/s)\n",
            "Selecting previously unselected package chromium-codecs-ffmpeg-extra.\n",
            "(Reading database ... 149406 files and directories currently installed.)\n",
            "Preparing to unpack .../chromium-codecs-ffmpeg-extra_87.0.4280.66-0ubuntu0.18.04.1_amd64.deb ...\n",
            "Unpacking chromium-codecs-ffmpeg-extra (87.0.4280.66-0ubuntu0.18.04.1) ...\n",
            "Selecting previously unselected package chromium-browser.\n",
            "Preparing to unpack .../chromium-browser_87.0.4280.66-0ubuntu0.18.04.1_amd64.deb ...\n",
            "Unpacking chromium-browser (87.0.4280.66-0ubuntu0.18.04.1) ...\n",
            "Selecting previously unselected package chromium-browser-l10n.\n",
            "Preparing to unpack .../chromium-browser-l10n_87.0.4280.66-0ubuntu0.18.04.1_all.deb ...\n",
            "Unpacking chromium-browser-l10n (87.0.4280.66-0ubuntu0.18.04.1) ...\n",
            "Selecting previously unselected package chromium-chromedriver.\n",
            "Preparing to unpack .../chromium-chromedriver_87.0.4280.66-0ubuntu0.18.04.1_amd64.deb ...\n",
            "Unpacking chromium-chromedriver (87.0.4280.66-0ubuntu0.18.04.1) ...\n",
            "Setting up chromium-codecs-ffmpeg-extra (87.0.4280.66-0ubuntu0.18.04.1) ...\n",
            "Setting up chromium-browser (87.0.4280.66-0ubuntu0.18.04.1) ...\n",
            "update-alternatives: using /usr/bin/chromium-browser to provide /usr/bin/x-www-browser (x-www-browser) in auto mode\n",
            "update-alternatives: using /usr/bin/chromium-browser to provide /usr/bin/gnome-www-browser (gnome-www-browser) in auto mode\n",
            "Setting up chromium-chromedriver (87.0.4280.66-0ubuntu0.18.04.1) ...\n",
            "Setting up chromium-browser-l10n (87.0.4280.66-0ubuntu0.18.04.1) ...\n",
            "Processing triggers for hicolor-icon-theme (0.17-2) ...\n",
            "Processing triggers for mime-support (3.60ubuntu1) ...\n",
            "Processing triggers for man-db (2.8.3-2ubuntu0.1) ...\n"
          ],
          "name": "stdout"
        }
      ]
    },
    {
      "cell_type": "markdown",
      "metadata": {
        "id": "Fh10W1Gt728A"
      },
      "source": [
        "### Pactkage 호출 및 로드"
      ]
    },
    {
      "cell_type": "code",
      "metadata": {
        "colab": {
          "base_uri": "https://localhost:8080/"
        },
        "id": "mFKqEimB1_Yw",
        "outputId": "febea7d4-fca9-43c3-c864-e4530d92bef9"
      },
      "source": [
        "from selenium import webdriver\r\n",
        "from selenium.webdriver.support import expected_conditions as EC\r\n",
        "import time\r\n",
        "\r\n",
        "chrome_options = webdriver.ChromeOptions()\r\n",
        "chrome_options.add_argument('--headless')\r\n",
        "chrome_options.add_argument('--no-sandbox')\r\n",
        "chrome_options.add_argument('--disable-dev-shm-usage')\r\n",
        "chrome_options.add_argument('--window-size=1920x1080')\r\n",
        "driver =webdriver.Chrome('chromedriver',chrome_options=chrome_options)"
      ],
      "execution_count": 3,
      "outputs": [
        {
          "output_type": "stream",
          "text": [
            "/usr/local/lib/python3.7/dist-packages/ipykernel_launcher.py:10: DeprecationWarning: use options instead of chrome_options\n",
            "  # Remove the CWD from sys.path while we load stuff.\n"
          ],
          "name": "stderr"
        }
      ]
    },
    {
      "cell_type": "code",
      "metadata": {
        "id": "SlfpTX4O2KE0"
      },
      "source": [
        "import urllib.request\r\n",
        "from bs4 import BeautifulSoup\r\n",
        "import re"
      ],
      "execution_count": 4,
      "outputs": []
    },
    {
      "cell_type": "markdown",
      "metadata": {
        "id": "h_qafZRn8D3S"
      },
      "source": [
        "### Selenium WebDriver 구동 및 검색결과 Parsing"
      ]
    },
    {
      "cell_type": "code",
      "metadata": {
        "id": "vFZY--vx2LlB"
      },
      "source": [
        "url = \"https://www.ep.go.kr/CmsWeb/viewPage.req?idx=PG0000001180\"\r\n",
        "driver.get(url)\r\n",
        "time.sleep(1)"
      ],
      "execution_count": 5,
      "outputs": []
    },
    {
      "cell_type": "code",
      "metadata": {
        "id": "suE330ae2SA9"
      },
      "source": [
        "# 로드 된 웹페이지에서 검색창의 Name 을 찾아서 검색어 입력\r\n",
        "search = driver.find_element_by_name(\"searTot\")\r\n",
        "search.send_keys(\"원아모집\") # headless 모드에서 chrome_options.add_argument('--window-size=1920x1080') 옵션이 없으면 에러 발생하므로 옵션을 반드시 넣을 것\r\n",
        "search.submit()\r\n"
      ],
      "execution_count": 6,
      "outputs": []
    },
    {
      "cell_type": "code",
      "metadata": {
        "id": "ottiskpn2TTy",
        "colab": {
          "base_uri": "https://localhost:8080/"
        },
        "outputId": "4f9e9308-0422-4aa0-b9b5-f92eed04fdb9"
      },
      "source": [
        "# 검색결과 파싱\r\n",
        "driver.switch_to.window(driver.window_handles[-1]) #검색결과가 다른 탭에서 열리므로 새롭게 열린 탭으로 이동\r\n",
        "search_html = driver.page_source\r\n",
        "soup = BeautifulSoup(search_html,'html.parser')\r\n",
        "title = soup.find_all(class_='btnS_nw')"
      ],
      "execution_count": 12,
      "outputs": [
        {
          "output_type": "stream",
          "text": [
            "[<a class=\"btnS_nw\" href=\"http://www.ep.go.kr/CmsWeb/viewPage.req?idx=PG0000001131&amp;boardId=BO0000000087&amp;CP0000000002_BO0000000087_Action=boardView&amp;CP0000000002_BO0000000087_ViewName=board/BoardView&amp;boardDataId=211932\" target=\"_blank\" title=\"구립 물빛캐슬어린이집 원아모집 안내새창열기\"><span>새창열기</span></a>, <a class=\"btnS_nw\" href=\"http://www.ep.go.kr/CmsWeb/viewPage.req?idx=PG0000001131&amp;boardId=BO0000000087&amp;CP0000000002_BO0000000087_Action=boardView&amp;CP0000000002_BO0000000087_ViewName=board/BoardView&amp;boardDataId=211446\" target=\"_blank\" title=\"『구립 응암행복어린이집』원아모집 안내새창열기\"><span>새창열기</span></a>, <a class=\"btnS_nw\" href=\"http://www.ep.go.kr/CmsWeb/viewPage.req?idx=PG0000001131&amp;boardId=BO0000000087&amp;CP0000000002_BO0000000087_Action=boardView&amp;CP0000000002_BO0000000087_ViewName=board/BoardView&amp;boardDataId=211445\" target=\"_blank\" title=\"『구립 응암샛별어린이집』원아모집 안내새창열기\"><span>새창열기</span></a>, <a class=\"btnS_nw\" href=\"http://www.ep.go.kr/CmsWeb/viewPage.req?idx=PG0000001131&amp;boardId=BO0000000087&amp;CP0000000002_BO0000000087_Action=boardView&amp;CP0000000002_BO0000000087_ViewName=board/BoardView&amp;boardDataId=210352\" target=\"_blank\" title=\"구립 이든어린이집 원아 모집 안내새창열기\"><span>새창열기</span></a>]\n"
          ],
          "name": "stdout"
        }
      ]
    },
    {
      "cell_type": "markdown",
      "metadata": {
        "id": "yibhgWGK2bl0"
      },
      "source": [
        "### Pandas DataFrame 으로 결과저장"
      ]
    },
    {
      "cell_type": "code",
      "metadata": {
        "id": "NPxt172D2akA",
        "colab": {
          "base_uri": "https://localhost:8080/"
        },
        "outputId": "dd699e1e-1165-4262-db4c-edb8410d9429"
      },
      "source": [
        "import pandas as pd\r\n",
        "\r\n",
        "result_list = []\r\n",
        "\r\n",
        "for i in title :\r\n",
        "    ititle = i.attrs['title']\r\n",
        "    ilink = i.attrs['href']\r\n",
        "    result_list.append([ititle,ilink])\r\n",
        "\r\n",
        "df = pd.DataFrame(result_list, columns = [\"title\",\"link\"])\r\n",
        "print(df)"
      ],
      "execution_count": 13,
      "outputs": [
        {
          "output_type": "stream",
          "text": [
            "                      title                                               link\n",
            "0   구립 물빛캐슬어린이집 원아모집 안내새창열기  http://www.ep.go.kr/CmsWeb/viewPage.req?idx=PG...\n",
            "1  『구립 응암행복어린이집』원아모집 안내새창열기  http://www.ep.go.kr/CmsWeb/viewPage.req?idx=PG...\n",
            "2  『구립 응암샛별어린이집』원아모집 안내새창열기  http://www.ep.go.kr/CmsWeb/viewPage.req?idx=PG...\n",
            "3    구립 이든어린이집 원아 모집 안내새창열기  http://www.ep.go.kr/CmsWeb/viewPage.req?idx=PG...\n"
          ],
          "name": "stdout"
        }
      ]
    },
    {
      "cell_type": "code",
      "metadata": {
        "id": "NYodByQj7H8t"
      },
      "source": [
        ""
      ],
      "execution_count": null,
      "outputs": []
    }
  ]
}