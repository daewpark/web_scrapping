{
  "nbformat": 4,
  "nbformat_minor": 0,
  "metadata": {
    "colab": {
      "name": "eunpyung_scrapping.ipynb",
      "provenance": [],
      "collapsed_sections": [],
      "authorship_tag": "ABX9TyPJYWbeqrsVZQa6iWV5CjQy",
      "include_colab_link": true
    },
    "kernelspec": {
      "name": "python3",
      "display_name": "Python 3"
    }
  },
  "cells": [
    {
      "cell_type": "markdown",
      "metadata": {
        "id": "view-in-github",
        "colab_type": "text"
      },
      "source": [
        "<a href=\"https://colab.research.google.com/github/daewpark/web_scrapping/blob/main/eunpyung_scrapping.ipynb\" target=\"_parent\"><img src=\"https://colab.research.google.com/assets/colab-badge.svg\" alt=\"Open In Colab\"/></a>"
      ]
    },
    {
      "cell_type": "markdown",
      "metadata": {
        "id": "ssBkX0yt7yJK"
      },
      "source": [
        "### Package 설치"
      ]
    },
    {
      "cell_type": "code",
      "metadata": {
        "id": "PJslbbZC3Oen",
        "colab": {
          "base_uri": "https://localhost:8080/"
        },
        "outputId": "6907ea40-d010-451c-8fac-4003e443564b"
      },
      "source": [
        "!pip install selenium\r\n",
        "!apt-get update \r\n",
        "!apt install chromium-chromedriver"
      ],
      "execution_count": 2,
      "outputs": [
        {
          "output_type": "stream",
          "text": [
            "Collecting selenium\n",
            "\u001b[?25l  Downloading https://files.pythonhosted.org/packages/80/d6/4294f0b4bce4de0abf13e17190289f9d0613b0a44e5dd6a7f5ca98459853/selenium-3.141.0-py2.py3-none-any.whl (904kB)\n",
            "\r\u001b[K     |▍                               | 10kB 17.9MB/s eta 0:00:01\r\u001b[K     |▊                               | 20kB 21.9MB/s eta 0:00:01\r\u001b[K     |█                               | 30kB 26.6MB/s eta 0:00:01\r\u001b[K     |█▌                              | 40kB 20.7MB/s eta 0:00:01\r\u001b[K     |█▉                              | 51kB 15.3MB/s eta 0:00:01\r\u001b[K     |██▏                             | 61kB 17.2MB/s eta 0:00:01\r\u001b[K     |██▌                             | 71kB 11.7MB/s eta 0:00:01\r\u001b[K     |███                             | 81kB 12.1MB/s eta 0:00:01\r\u001b[K     |███▎                            | 92kB 13.2MB/s eta 0:00:01\r\u001b[K     |███▋                            | 102kB 12.5MB/s eta 0:00:01\r\u001b[K     |████                            | 112kB 12.5MB/s eta 0:00:01\r\u001b[K     |████▍                           | 122kB 12.5MB/s eta 0:00:01\r\u001b[K     |████▊                           | 133kB 12.5MB/s eta 0:00:01\r\u001b[K     |█████                           | 143kB 12.5MB/s eta 0:00:01\r\u001b[K     |█████▍                          | 153kB 12.5MB/s eta 0:00:01\r\u001b[K     |█████▉                          | 163kB 12.5MB/s eta 0:00:01\r\u001b[K     |██████▏                         | 174kB 12.5MB/s eta 0:00:01\r\u001b[K     |██████▌                         | 184kB 12.5MB/s eta 0:00:01\r\u001b[K     |██████▉                         | 194kB 12.5MB/s eta 0:00:01\r\u001b[K     |███████▎                        | 204kB 12.5MB/s eta 0:00:01\r\u001b[K     |███████▋                        | 215kB 12.5MB/s eta 0:00:01\r\u001b[K     |████████                        | 225kB 12.5MB/s eta 0:00:01\r\u001b[K     |████████▎                       | 235kB 12.5MB/s eta 0:00:01\r\u001b[K     |████████▊                       | 245kB 12.5MB/s eta 0:00:01\r\u001b[K     |█████████                       | 256kB 12.5MB/s eta 0:00:01\r\u001b[K     |█████████▍                      | 266kB 12.5MB/s eta 0:00:01\r\u001b[K     |█████████▉                      | 276kB 12.5MB/s eta 0:00:01\r\u001b[K     |██████████▏                     | 286kB 12.5MB/s eta 0:00:01\r\u001b[K     |██████████▌                     | 296kB 12.5MB/s eta 0:00:01\r\u001b[K     |██████████▉                     | 307kB 12.5MB/s eta 0:00:01\r\u001b[K     |███████████▎                    | 317kB 12.5MB/s eta 0:00:01\r\u001b[K     |███████████▋                    | 327kB 12.5MB/s eta 0:00:01\r\u001b[K     |████████████                    | 337kB 12.5MB/s eta 0:00:01\r\u001b[K     |████████████▎                   | 348kB 12.5MB/s eta 0:00:01\r\u001b[K     |████████████▊                   | 358kB 12.5MB/s eta 0:00:01\r\u001b[K     |█████████████                   | 368kB 12.5MB/s eta 0:00:01\r\u001b[K     |█████████████▍                  | 378kB 12.5MB/s eta 0:00:01\r\u001b[K     |█████████████▊                  | 389kB 12.5MB/s eta 0:00:01\r\u001b[K     |██████████████▏                 | 399kB 12.5MB/s eta 0:00:01\r\u001b[K     |██████████████▌                 | 409kB 12.5MB/s eta 0:00:01\r\u001b[K     |██████████████▉                 | 419kB 12.5MB/s eta 0:00:01\r\u001b[K     |███████████████▏                | 430kB 12.5MB/s eta 0:00:01\r\u001b[K     |███████████████▋                | 440kB 12.5MB/s eta 0:00:01\r\u001b[K     |████████████████                | 450kB 12.5MB/s eta 0:00:01\r\u001b[K     |████████████████▎               | 460kB 12.5MB/s eta 0:00:01\r\u001b[K     |████████████████▋               | 471kB 12.5MB/s eta 0:00:01\r\u001b[K     |█████████████████               | 481kB 12.5MB/s eta 0:00:01\r\u001b[K     |█████████████████▍              | 491kB 12.5MB/s eta 0:00:01\r\u001b[K     |█████████████████▊              | 501kB 12.5MB/s eta 0:00:01\r\u001b[K     |██████████████████▏             | 512kB 12.5MB/s eta 0:00:01\r\u001b[K     |██████████████████▌             | 522kB 12.5MB/s eta 0:00:01\r\u001b[K     |██████████████████▉             | 532kB 12.5MB/s eta 0:00:01\r\u001b[K     |███████████████████▏            | 542kB 12.5MB/s eta 0:00:01\r\u001b[K     |███████████████████▋            | 552kB 12.5MB/s eta 0:00:01\r\u001b[K     |████████████████████            | 563kB 12.5MB/s eta 0:00:01\r\u001b[K     |████████████████████▎           | 573kB 12.5MB/s eta 0:00:01\r\u001b[K     |████████████████████▋           | 583kB 12.5MB/s eta 0:00:01\r\u001b[K     |█████████████████████           | 593kB 12.5MB/s eta 0:00:01\r\u001b[K     |█████████████████████▍          | 604kB 12.5MB/s eta 0:00:01\r\u001b[K     |█████████████████████▊          | 614kB 12.5MB/s eta 0:00:01\r\u001b[K     |██████████████████████          | 624kB 12.5MB/s eta 0:00:01\r\u001b[K     |██████████████████████▌         | 634kB 12.5MB/s eta 0:00:01\r\u001b[K     |██████████████████████▉         | 645kB 12.5MB/s eta 0:00:01\r\u001b[K     |███████████████████████▏        | 655kB 12.5MB/s eta 0:00:01\r\u001b[K     |███████████████████████▌        | 665kB 12.5MB/s eta 0:00:01\r\u001b[K     |████████████████████████        | 675kB 12.5MB/s eta 0:00:01\r\u001b[K     |████████████████████████▎       | 686kB 12.5MB/s eta 0:00:01\r\u001b[K     |████████████████████████▋       | 696kB 12.5MB/s eta 0:00:01\r\u001b[K     |█████████████████████████       | 706kB 12.5MB/s eta 0:00:01\r\u001b[K     |█████████████████████████▍      | 716kB 12.5MB/s eta 0:00:01\r\u001b[K     |█████████████████████████▊      | 727kB 12.5MB/s eta 0:00:01\r\u001b[K     |██████████████████████████      | 737kB 12.5MB/s eta 0:00:01\r\u001b[K     |██████████████████████████▍     | 747kB 12.5MB/s eta 0:00:01\r\u001b[K     |██████████████████████████▉     | 757kB 12.5MB/s eta 0:00:01\r\u001b[K     |███████████████████████████▏    | 768kB 12.5MB/s eta 0:00:01\r\u001b[K     |███████████████████████████▌    | 778kB 12.5MB/s eta 0:00:01\r\u001b[K     |████████████████████████████    | 788kB 12.5MB/s eta 0:00:01\r\u001b[K     |████████████████████████████▎   | 798kB 12.5MB/s eta 0:00:01\r\u001b[K     |████████████████████████████▋   | 808kB 12.5MB/s eta 0:00:01\r\u001b[K     |█████████████████████████████   | 819kB 12.5MB/s eta 0:00:01\r\u001b[K     |█████████████████████████████▍  | 829kB 12.5MB/s eta 0:00:01\r\u001b[K     |█████████████████████████████▊  | 839kB 12.5MB/s eta 0:00:01\r\u001b[K     |██████████████████████████████  | 849kB 12.5MB/s eta 0:00:01\r\u001b[K     |██████████████████████████████▍ | 860kB 12.5MB/s eta 0:00:01\r\u001b[K     |██████████████████████████████▉ | 870kB 12.5MB/s eta 0:00:01\r\u001b[K     |███████████████████████████████▏| 880kB 12.5MB/s eta 0:00:01\r\u001b[K     |███████████████████████████████▌| 890kB 12.5MB/s eta 0:00:01\r\u001b[K     |███████████████████████████████▉| 901kB 12.5MB/s eta 0:00:01\r\u001b[K     |████████████████████████████████| 911kB 12.5MB/s \n",
            "\u001b[?25hRequirement already satisfied: urllib3 in /usr/local/lib/python3.7/dist-packages (from selenium) (1.24.3)\n",
            "Installing collected packages: selenium\n",
            "Successfully installed selenium-3.141.0\n",
            "Get:1 http://ppa.launchpad.net/c2d4u.team/c2d4u4.0+/ubuntu bionic InRelease [15.9 kB]\n",
            "Hit:2 http://archive.ubuntu.com/ubuntu bionic InRelease\n",
            "Get:3 http://archive.ubuntu.com/ubuntu bionic-updates InRelease [88.7 kB]\n",
            "Hit:4 http://ppa.launchpad.net/cran/libgit2/ubuntu bionic InRelease\n",
            "Get:5 https://cloud.r-project.org/bin/linux/ubuntu bionic-cran40/ InRelease [3,626 B]\n",
            "Hit:6 http://ppa.launchpad.net/deadsnakes/ppa/ubuntu bionic InRelease\n",
            "Get:7 http://archive.ubuntu.com/ubuntu bionic-backports InRelease [74.6 kB]\n",
            "Hit:8 http://ppa.launchpad.net/graphics-drivers/ppa/ubuntu bionic InRelease\n",
            "Get:9 http://security.ubuntu.com/ubuntu bionic-security InRelease [88.7 kB]\n",
            "Ign:10 https://developer.download.nvidia.com/compute/cuda/repos/ubuntu1804/x86_64  InRelease\n",
            "Get:11 http://ppa.launchpad.net/c2d4u.team/c2d4u4.0+/ubuntu bionic/main Sources [1,738 kB]\n",
            "Ign:12 https://developer.download.nvidia.com/compute/machine-learning/repos/ubuntu1804/x86_64  InRelease\n",
            "Hit:13 https://developer.download.nvidia.com/compute/cuda/repos/ubuntu1804/x86_64  Release\n",
            "Hit:14 https://developer.download.nvidia.com/compute/machine-learning/repos/ubuntu1804/x86_64  Release\n",
            "Get:15 http://ppa.launchpad.net/c2d4u.team/c2d4u4.0+/ubuntu bionic/main amd64 Packages [889 kB]\n",
            "Get:16 http://archive.ubuntu.com/ubuntu bionic-updates/main amd64 Packages [2,395 kB]\n",
            "Get:17 http://archive.ubuntu.com/ubuntu bionic-updates/universe amd64 Packages [2,163 kB]\n",
            "Fetched 7,457 kB in 3s (2,767 kB/s)\n",
            "Reading package lists... Done\n",
            "Reading package lists... Done\n",
            "Building dependency tree       \n",
            "Reading state information... Done\n",
            "The following additional packages will be installed:\n",
            "  chromium-browser chromium-browser-l10n chromium-codecs-ffmpeg-extra\n",
            "Suggested packages:\n",
            "  webaccounts-chromium-extension unity-chromium-extension adobe-flashplugin\n",
            "The following NEW packages will be installed:\n",
            "  chromium-browser chromium-browser-l10n chromium-chromedriver\n",
            "  chromium-codecs-ffmpeg-extra\n",
            "0 upgraded, 4 newly installed, 0 to remove and 13 not upgraded.\n",
            "Need to get 81.0 MB of archives.\n",
            "After this operation, 273 MB of additional disk space will be used.\n",
            "Get:1 http://archive.ubuntu.com/ubuntu bionic-updates/universe amd64 chromium-codecs-ffmpeg-extra amd64 87.0.4280.66-0ubuntu0.18.04.1 [1,122 kB]\n",
            "Get:2 http://archive.ubuntu.com/ubuntu bionic-updates/universe amd64 chromium-browser amd64 87.0.4280.66-0ubuntu0.18.04.1 [71.7 MB]\n",
            "Get:3 http://archive.ubuntu.com/ubuntu bionic-updates/universe amd64 chromium-browser-l10n all 87.0.4280.66-0ubuntu0.18.04.1 [3,716 kB]\n",
            "Get:4 http://archive.ubuntu.com/ubuntu bionic-updates/universe amd64 chromium-chromedriver amd64 87.0.4280.66-0ubuntu0.18.04.1 [4,488 kB]\n",
            "Fetched 81.0 MB in 2s (52.1 MB/s)\n",
            "Selecting previously unselected package chromium-codecs-ffmpeg-extra.\n",
            "(Reading database ... 149406 files and directories currently installed.)\n",
            "Preparing to unpack .../chromium-codecs-ffmpeg-extra_87.0.4280.66-0ubuntu0.18.04.1_amd64.deb ...\n",
            "Unpacking chromium-codecs-ffmpeg-extra (87.0.4280.66-0ubuntu0.18.04.1) ...\n",
            "Selecting previously unselected package chromium-browser.\n",
            "Preparing to unpack .../chromium-browser_87.0.4280.66-0ubuntu0.18.04.1_amd64.deb ...\n",
            "Unpacking chromium-browser (87.0.4280.66-0ubuntu0.18.04.1) ...\n",
            "Selecting previously unselected package chromium-browser-l10n.\n",
            "Preparing to unpack .../chromium-browser-l10n_87.0.4280.66-0ubuntu0.18.04.1_all.deb ...\n",
            "Unpacking chromium-browser-l10n (87.0.4280.66-0ubuntu0.18.04.1) ...\n",
            "Selecting previously unselected package chromium-chromedriver.\n",
            "Preparing to unpack .../chromium-chromedriver_87.0.4280.66-0ubuntu0.18.04.1_amd64.deb ...\n",
            "Unpacking chromium-chromedriver (87.0.4280.66-0ubuntu0.18.04.1) ...\n",
            "Setting up chromium-codecs-ffmpeg-extra (87.0.4280.66-0ubuntu0.18.04.1) ...\n",
            "Setting up chromium-browser (87.0.4280.66-0ubuntu0.18.04.1) ...\n",
            "update-alternatives: using /usr/bin/chromium-browser to provide /usr/bin/x-www-browser (x-www-browser) in auto mode\n",
            "update-alternatives: using /usr/bin/chromium-browser to provide /usr/bin/gnome-www-browser (gnome-www-browser) in auto mode\n",
            "Setting up chromium-chromedriver (87.0.4280.66-0ubuntu0.18.04.1) ...\n",
            "Setting up chromium-browser-l10n (87.0.4280.66-0ubuntu0.18.04.1) ...\n",
            "Processing triggers for hicolor-icon-theme (0.17-2) ...\n",
            "Processing triggers for mime-support (3.60ubuntu1) ...\n",
            "Processing triggers for man-db (2.8.3-2ubuntu0.1) ...\n"
          ],
          "name": "stdout"
        }
      ]
    },
    {
      "cell_type": "markdown",
      "metadata": {
        "id": "Fh10W1Gt728A"
      },
      "source": [
        "### Pactkage 호출 및 로드"
      ]
    },
    {
      "cell_type": "code",
      "metadata": {
        "id": "mFKqEimB1_Yw",
        "colab": {
          "base_uri": "https://localhost:8080/"
        },
        "outputId": "e715769f-2e0d-4a11-a505-9c36413ff3c2"
      },
      "source": [
        "from selenium import webdriver\r\n",
        "from selenium.webdriver.support import expected_conditions as EC\r\n",
        "import time\r\n",
        "\r\n",
        "chrome_options = webdriver.ChromeOptions()\r\n",
        "chrome_options.add_argument('--headless')\r\n",
        "chrome_options.add_argument('--no-sandbox')\r\n",
        "chrome_options.add_argument('--disable-dev-shm-usage')\r\n",
        "chrome_options.add_argument('--window-size=1920x1080')\r\n",
        "driver =webdriver.Chrome('chromedriver',chrome_options=chrome_options)"
      ],
      "execution_count": 3,
      "outputs": [
        {
          "output_type": "stream",
          "text": [
            "/usr/local/lib/python3.7/dist-packages/ipykernel_launcher.py:10: DeprecationWarning: use options instead of chrome_options\n",
            "  # Remove the CWD from sys.path while we load stuff.\n"
          ],
          "name": "stderr"
        }
      ]
    },
    {
      "cell_type": "code",
      "metadata": {
        "id": "SlfpTX4O2KE0"
      },
      "source": [
        "import urllib.request\r\n",
        "from bs4 import BeautifulSoup\r\n",
        "import re"
      ],
      "execution_count": 4,
      "outputs": []
    },
    {
      "cell_type": "markdown",
      "metadata": {
        "id": "h_qafZRn8D3S"
      },
      "source": [
        "### Selenium WebDriver 구동 및 검색결과 Parsing"
      ]
    },
    {
      "cell_type": "code",
      "metadata": {
        "id": "vFZY--vx2LlB"
      },
      "source": [
        "url = \"https://www.ep.go.kr/CmsWeb/viewPage.req?idx=PG0000001180\"\r\n",
        "driver.get(url)\r\n",
        "time.sleep(1)"
      ],
      "execution_count": 5,
      "outputs": []
    },
    {
      "cell_type": "code",
      "metadata": {
        "id": "suE330ae2SA9"
      },
      "source": [
        "# 로드 된 웹페이지에서 검색창의 Name 을 찾아서 검색어 입력\r\n",
        "search = driver.find_element_by_name(\"searTot\")\r\n",
        "search.send_keys(\"원아모집\") # headless 모드에서 chrome_options.add_argument('--window-size=1920x1080') 옵션이 없으면 에러 발생하므로 옵션을 반드시 넣을 것\r\n",
        "search.submit()\r\n"
      ],
      "execution_count": 6,
      "outputs": []
    },
    {
      "cell_type": "code",
      "metadata": {
        "id": "ottiskpn2TTy"
      },
      "source": [
        "# 검색결과 파싱\r\n",
        "driver.switch_to.window(driver.window_handles[-1]) #검색결과가 다른 탭에서 열리므로 새롭게 열린 탭으로 이동\r\n",
        "search_html = driver.page_source\r\n",
        "soup = BeautifulSoup(search_html,'html.parser')\r\n",
        "title = soup.find_all(class_='btnS_nw')"
      ],
      "execution_count": 7,
      "outputs": []
    },
    {
      "cell_type": "markdown",
      "metadata": {
        "id": "yibhgWGK2bl0"
      },
      "source": [
        "### Pandas DataFrame 으로 결과저장"
      ]
    },
    {
      "cell_type": "code",
      "metadata": {
        "id": "NPxt172D2akA",
        "colab": {
          "base_uri": "https://localhost:8080/"
        },
        "outputId": "a3ec8144-1ffd-4804-e34d-13d8a152d22e"
      },
      "source": [
        "result_list = []\r\n",
        "\r\n",
        "for i in title :   \r\n",
        "   line = i.attrs['title'] + \"   \" + i.attrs['href']\r\n",
        "   result_list.append(line)\r\n",
        "\r\n",
        "with open (\"result.txt\",\"w\",encoding=\"utf-8\") as file :\r\n",
        "    for i in result_list :\r\n",
        "        file.write (i + '\\n')\r\n",
        "\r\n",
        "file.close\r\n"
      ],
      "execution_count": 29,
      "outputs": [
        {
          "output_type": "stream",
          "text": [
            "<_io.TextIOWrapper name='result.txt' mode='r' encoding='UTF-8'>\n"
          ],
          "name": "stdout"
        }
      ]
    },
    {
      "cell_type": "markdown",
      "metadata": {
        "id": "nctmFntsqPor"
      },
      "source": [
        "### 스크래핑 결과 메일로 보내기"
      ]
    },
    {
      "cell_type": "code",
      "metadata": {
        "id": "U0Oujvzzp5rj"
      },
      "source": [
        "import smtplib;\r\n",
        "# from email.mime.base import MIMEBase;\r\n",
        "# 메일 메시지를 만드는 모듈 (MIMEBase는 이하 MIMEMultipart, MIMEText, MIMEApplication, MIMEImage, MIMEAudio)의 상위 모듈이다.\r\n",
        "# 굳이 선언할 필요없다.\r\n",
        "\r\n",
        "from email.mime.multipart import MIMEMultipart                                  # 메일의 Data 영역의 메시지를 만드는 모듈 (MIMEText, MIMEApplication, MIMEImage, MIMEAudio가 attach되면 바운더리 형식으로 변환)\r\n",
        "from email.mime.text import MIMEText                                            # 메일의 본문 내용을 만드는 모듈\r\n",
        "from email.mime.application import MIMEApplication                              # 메일의 첨부 파일을 base64 형식으로 변환\r\n",
        "from email.mime.image import MIMEImage                                          # 메일의 이미지 파일을 base64 형식으로 변환(Content-ID 생성)\r\n",
        "from email.mime.audio import MIMEAudio                                          # 메일의 음악 파일을 base64 형식으로 변환(Content-ID 생성)\r\n",
        "import io # 파일 IO"
      ],
      "execution_count": 9,
      "outputs": []
    },
    {
      "cell_type": "code",
      "metadata": {
        "id": "hoRHQ6jiu9oR",
        "colab": {
          "base_uri": "https://localhost:8080/"
        },
        "outputId": "9b1b9b52-eb19-4917-dfd7-2bf054d6d467"
      },
      "source": [
        "#메일 발송시간을 알리기 위하여 timestamp 라이브러리 호출\r\n",
        "import datetime as dt\r\n",
        "today = dt.date.today()\r\n",
        "today_string = today.strftime(\"%Y-%m-%d\")\r\n",
        "\r\n",
        "# 메일 서버와 통신하기 전에 메시지를 만든다.\r\n",
        "message = MIMEMultipart()\r\n",
        "message.set_charset(\"utf-8\")\r\n",
        "message['From'] = \"dwn.park@gmail.com\"\r\n",
        "message['To'] = \"dwn.park@gmail.com\"\r\n",
        "message['Cc'] = None\r\n",
        "message['Bcc'] = None\r\n",
        "message['Subject'] = \"은평구청 원아모집 공고 알림봇 (\" + today_string + \")\"\r\n",
        "body = \"\\r\\n\".join(result_list)\r\n",
        "message.attach (MIMEText(body, 'plain'))\r\n",
        "print(message)"
      ],
      "execution_count": 42,
      "outputs": [
        {
          "output_type": "stream",
          "text": [
            "MIME-Version: 1.0\n",
            "Content-Type: multipart/mixed; charset=\"utf-8\"; boundary=\"===============3608656849532287762==\"\n",
            "Content-Transfer-Encoding: base64\n",
            "From: dwn.park@gmail.com\n",
            "To: dwn.park@gmail.com\n",
            "Cc: \n",
            "Bcc: \n",
            "Subject: =?utf-8?b?7J2A7Y+J6rWs7LKtIOybkOyVhOuqqOynkSDqs7Xqs6Ag7JWM66a867SHICgyMDIxLTAyLTI1KQ==?=\n",
            "\n",
            "--===============3608656849532287762==\n",
            "Content-Type: text/plain; charset=\"utf-8\"\n",
            "MIME-Version: 1.0\n",
            "Content-Transfer-Encoding: base64\n",
            "\n",
            "6rWs66a9IOusvOu5m+y6kOyKrOyWtOumsOydtOynkSDsm5DslYTrqqjsp5Eg7JWI64K07IOI7LC9\n",
            "7Je06riwICAgaHR0cDovL3d3dy5lcC5nby5rci9DbXNXZWIvdmlld1BhZ2UucmVxP2lkeD1QRzAw\n",
            "MDAwMDExMzEmYm9hcmRJZD1CTzAwMDAwMDAwODcmQ1AwMDAwMDAwMDAyX0JPMDAwMDAwMDA4N19B\n",
            "Y3Rpb249Ym9hcmRWaWV3JkNQMDAwMDAwMDAwMl9CTzAwMDAwMDAwODdfVmlld05hbWU9Ym9hcmQv\n",
            "Qm9hcmRWaWV3JmJvYXJkRGF0YUlkPTIxMTkzMg0K44CO6rWs66a9IOydkeyVlO2WieuzteyWtOum\n",
            "sOydtOynkeOAj+ybkOyVhOuqqOynkSDslYjrgrTsg4jssL3sl7TquLAgICBodHRwOi8vd3d3LmVw\n",
            "LmdvLmtyL0Ntc1dlYi92aWV3UGFnZS5yZXE/aWR4PVBHMDAwMDAwMTEzMSZib2FyZElkPUJPMDAw\n",
            "MDAwMDA4NyZDUDAwMDAwMDAwMDJfQk8wMDAwMDAwMDg3X0FjdGlvbj1ib2FyZFZpZXcmQ1AwMDAw\n",
            "MDAwMDAyX0JPMDAwMDAwMDA4N19WaWV3TmFtZT1ib2FyZC9Cb2FyZFZpZXcmYm9hcmREYXRhSWQ9\n",
            "MjExNDQ2DQrjgI7qtazrpr0g7J2R7JWU7IOb67OE7Ja066aw7J207KeR44CP7JuQ7JWE66qo7KeR\n",
            "IOyViOuCtOyDiOywveyXtOq4sCAgIGh0dHA6Ly93d3cuZXAuZ28ua3IvQ21zV2ViL3ZpZXdQYWdl\n",
            "LnJlcT9pZHg9UEcwMDAwMDAxMTMxJmJvYXJkSWQ9Qk8wMDAwMDAwMDg3JkNQMDAwMDAwMDAwMl9C\n",
            "TzAwMDAwMDAwODdfQWN0aW9uPWJvYXJkVmlldyZDUDAwMDAwMDAwMDJfQk8wMDAwMDAwMDg3X1Zp\n",
            "ZXdOYW1lPWJvYXJkL0JvYXJkVmlldyZib2FyZERhdGFJZD0yMTE0NDUNCuq1rOumvSDsnbTrk6Ds\n",
            "lrTrprDsnbTsp5Eg7JuQ7JWEIOuqqOynkSDslYjrgrTsg4jssL3sl7TquLAgICBodHRwOi8vd3d3\n",
            "LmVwLmdvLmtyL0Ntc1dlYi92aWV3UGFnZS5yZXE/aWR4PVBHMDAwMDAwMTEzMSZib2FyZElkPUJP\n",
            "MDAwMDAwMDA4NyZDUDAwMDAwMDAwMDJfQk8wMDAwMDAwMDg3X0FjdGlvbj1ib2FyZFZpZXcmQ1Aw\n",
            "MDAwMDAwMDAyX0JPMDAwMDAwMDA4N19WaWV3TmFtZT1ib2FyZC9Cb2FyZFZpZXcmYm9hcmREYXRh\n",
            "SWQ9MjEwMzUy\n",
            "\n",
            "--===============3608656849532287762==--\n",
            "\n"
          ],
          "name": "stdout"
        }
      ]
    },
    {
      "cell_type": "code",
      "metadata": {
        "id": "wE0PjptwrzS7"
      },
      "source": [
        "# 첨부 파일 추가\r\n",
        "#with open(\"test.xlsx\", \"rb\") as fp :\r\n",
        "#    part = MIMEApplication(fp.read(), Name = \"test.xlsx\") # Name은 메일 수신자에서 설정되는 파일 이름\r\n",
        "#    data.attach (part) # Data 영역의 메시지에 바운더리 추가\r\n",
        "\r\n",
        "# 이미지 파일 추가\r\n",
        "#with open(\"capture.png\", 'rb') as fp :\r\n",
        "#    img = MIMEImage(fp.read(), Name = \"capture.png\") # Name은 메일 수신자에서 설정되는 파일 이름\r\n",
        "#    img.add_header('Content-ID', '<capture>') # 해더에 Content-ID 추가(본문 내용에서 cid로 링크를 걸 수 있다.)\r\n",
        "#    data.attach(img) # Data 영역의 메시지에 바운더리 추가\r\n",
        "\r\n",
        "\r\n",
        "# Html 형식의 본문 내용 (cid로 이미 첨부 파일을 링크했다.)\r\n",
        "# msg = MIMEText(\"Hello Test<br /><img src='cid:capture'>\", 'html')"
      ],
      "execution_count": 43,
      "outputs": []
    },
    {
      "cell_type": "code",
      "metadata": {
        "id": "h4PLUSpwr9Kd",
        "colab": {
          "base_uri": "https://localhost:8080/"
        },
        "outputId": "87b77532-9ac7-4dc6-a42f-a66b65b78dbe"
      },
      "source": [
        "session = smtplib.SMTP('smtp.gmail.com', 587) # 메일 서버와 통신 개시\r\n",
        "session.set_debuglevel(True) \r\n",
        "session.ehlo()\r\n",
        "session.starttls()\r\n",
        "session.login('dwn.park@gmail.com', 'xytbwmxhgsfjvune')\r\n",
        "\r\n",
        "sender = message['From']\r\n",
        "receiver = message['To'].split(\",\")\r\n",
        "if message['Cc'] is not None :\r\n",
        "    receiver += data['Cc'].split(\",\") # 참조자 추가\r\n",
        "if message['Bcc'] is not None :\r\n",
        "    receiver += message['Bcc'].split(\",\") # 숨은 참조자 추가\r\n",
        "session.sendmail(sender, receiver, message.as_string()) # 메일 프로토콜 상 MAIL, RCPT, DATA 순으로 메시지를 보내야 하는데 이걸 sendmail함수에서 자동으로 해준다.\r\n",
        "session.quit() # QUIT을 보내고 접속을 종료하고 메일을 보낸다."
      ],
      "execution_count": 46,
      "outputs": [
        {
          "output_type": "stream",
          "text": [
            "send: 'ehlo [172.28.0.2]\\r\\n'\n",
            "reply: b'250-smtp.gmail.com at your service, [34.91.10.12]\\r\\n'\n",
            "reply: b'250-SIZE 35882577\\r\\n'\n",
            "reply: b'250-8BITMIME\\r\\n'\n",
            "reply: b'250-STARTTLS\\r\\n'\n",
            "reply: b'250-ENHANCEDSTATUSCODES\\r\\n'\n",
            "reply: b'250-PIPELINING\\r\\n'\n",
            "reply: b'250-CHUNKING\\r\\n'\n",
            "reply: b'250 SMTPUTF8\\r\\n'\n",
            "reply: retcode (250); Msg: b'smtp.gmail.com at your service, [34.91.10.12]\\nSIZE 35882577\\n8BITMIME\\nSTARTTLS\\nENHANCEDSTATUSCODES\\nPIPELINING\\nCHUNKING\\nSMTPUTF8'\n",
            "send: 'STARTTLS\\r\\n'\n",
            "reply: b'220 2.0.0 Ready to start TLS\\r\\n'\n",
            "reply: retcode (220); Msg: b'2.0.0 Ready to start TLS'\n",
            "send: 'ehlo [172.28.0.2]\\r\\n'\n",
            "reply: b'250-smtp.gmail.com at your service, [34.91.10.12]\\r\\n'\n",
            "reply: b'250-SIZE 35882577\\r\\n'\n",
            "reply: b'250-8BITMIME\\r\\n'\n",
            "reply: b'250-AUTH LOGIN PLAIN XOAUTH2 PLAIN-CLIENTTOKEN OAUTHBEARER XOAUTH\\r\\n'\n",
            "reply: b'250-ENHANCEDSTATUSCODES\\r\\n'\n",
            "reply: b'250-PIPELINING\\r\\n'\n",
            "reply: b'250-CHUNKING\\r\\n'\n",
            "reply: b'250 SMTPUTF8\\r\\n'\n",
            "reply: retcode (250); Msg: b'smtp.gmail.com at your service, [34.91.10.12]\\nSIZE 35882577\\n8BITMIME\\nAUTH LOGIN PLAIN XOAUTH2 PLAIN-CLIENTTOKEN OAUTHBEARER XOAUTH\\nENHANCEDSTATUSCODES\\nPIPELINING\\nCHUNKING\\nSMTPUTF8'\n",
            "send: 'AUTH PLAIN AGR3bi5wYXJrQGdtYWlsLmNvbQB4eXRid214aGdzZmp2dW5l\\r\\n'\n",
            "reply: b'235 2.7.0 Accepted\\r\\n'\n",
            "reply: retcode (235); Msg: b'2.7.0 Accepted'\n",
            "send: 'mail FROM:<dwn.park@gmail.com> size=1916\\r\\n'\n",
            "reply: b'250 2.1.0 OK w8sm2939641edd.39 - gsmtp\\r\\n'\n",
            "reply: retcode (250); Msg: b'2.1.0 OK w8sm2939641edd.39 - gsmtp'\n",
            "send: 'rcpt TO:<dwn.park@gmail.com>\\r\\n'\n",
            "reply: b'250 2.1.5 OK w8sm2939641edd.39 - gsmtp\\r\\n'\n",
            "reply: retcode (250); Msg: b'2.1.5 OK w8sm2939641edd.39 - gsmtp'\n",
            "send: 'data\\r\\n'\n",
            "reply: b'354  Go ahead w8sm2939641edd.39 - gsmtp\\r\\n'\n",
            "reply: retcode (354); Msg: b'Go ahead w8sm2939641edd.39 - gsmtp'\n",
            "data: (354, b'Go ahead w8sm2939641edd.39 - gsmtp')\n",
            "send: b'MIME-Version: 1.0\\r\\nContent-Type: multipart/mixed; charset=\"utf-8\"; boundary=\"===============3608656849532287762==\"\\r\\nContent-Transfer-Encoding: base64\\r\\nFrom: dwn.park@gmail.com\\r\\nTo: dwn.park@gmail.com\\r\\nCc: \\r\\nBcc: \\r\\nSubject: =?utf-8?b?7J2A7Y+J6rWs7LKtIOybkOyVhOuqqOynkSDqs7Xqs6Ag7JWM66a867SHICgyMDIxLTAyLTI1KQ==?=\\r\\n\\r\\n--===============3608656849532287762==\\r\\nContent-Type: text/plain; charset=\"utf-8\"\\r\\nMIME-Version: 1.0\\r\\nContent-Transfer-Encoding: base64\\r\\n\\r\\n6rWs66a9IOusvOu5m+y6kOyKrOyWtOumsOydtOynkSDsm5DslYTrqqjsp5Eg7JWI64K07IOI7LC9\\r\\n7Je06riwICAgaHR0cDovL3d3dy5lcC5nby5rci9DbXNXZWIvdmlld1BhZ2UucmVxP2lkeD1QRzAw\\r\\nMDAwMDExMzEmYm9hcmRJZD1CTzAwMDAwMDAwODcmQ1AwMDAwMDAwMDAyX0JPMDAwMDAwMDA4N19B\\r\\nY3Rpb249Ym9hcmRWaWV3JkNQMDAwMDAwMDAwMl9CTzAwMDAwMDAwODdfVmlld05hbWU9Ym9hcmQv\\r\\nQm9hcmRWaWV3JmJvYXJkRGF0YUlkPTIxMTkzMg0K44CO6rWs66a9IOydkeyVlO2WieuzteyWtOum\\r\\nsOydtOynkeOAj+ybkOyVhOuqqOynkSDslYjrgrTsg4jssL3sl7TquLAgICBodHRwOi8vd3d3LmVw\\r\\nLmdvLmtyL0Ntc1dlYi92aWV3UGFnZS5yZXE/aWR4PVBHMDAwMDAwMTEzMSZib2FyZElkPUJPMDAw\\r\\nMDAwMDA4NyZDUDAwMDAwMDAwMDJfQk8wMDAwMDAwMDg3X0FjdGlvbj1ib2FyZFZpZXcmQ1AwMDAw\\r\\nMDAwMDAyX0JPMDAwMDAwMDA4N19WaWV3TmFtZT1ib2FyZC9Cb2FyZFZpZXcmYm9hcmREYXRhSWQ9\\r\\nMjExNDQ2DQrjgI7qtazrpr0g7J2R7JWU7IOb67OE7Ja066aw7J207KeR44CP7JuQ7JWE66qo7KeR\\r\\nIOyViOuCtOyDiOywveyXtOq4sCAgIGh0dHA6Ly93d3cuZXAuZ28ua3IvQ21zV2ViL3ZpZXdQYWdl\\r\\nLnJlcT9pZHg9UEcwMDAwMDAxMTMxJmJvYXJkSWQ9Qk8wMDAwMDAwMDg3JkNQMDAwMDAwMDAwMl9C\\r\\nTzAwMDAwMDAwODdfQWN0aW9uPWJvYXJkVmlldyZDUDAwMDAwMDAwMDJfQk8wMDAwMDAwMDg3X1Zp\\r\\nZXdOYW1lPWJvYXJkL0JvYXJkVmlldyZib2FyZERhdGFJZD0yMTE0NDUNCuq1rOumvSDsnbTrk6Ds\\r\\nlrTrprDsnbTsp5Eg7JuQ7JWEIOuqqOynkSDslYjrgrTsg4jssL3sl7TquLAgICBodHRwOi8vd3d3\\r\\nLmVwLmdvLmtyL0Ntc1dlYi92aWV3UGFnZS5yZXE/aWR4PVBHMDAwMDAwMTEzMSZib2FyZElkPUJP\\r\\nMDAwMDAwMDA4NyZDUDAwMDAwMDAwMDJfQk8wMDAwMDAwMDg3X0FjdGlvbj1ib2FyZFZpZXcmQ1Aw\\r\\nMDAwMDAwMDAyX0JPMDAwMDAwMDA4N19WaWV3TmFtZT1ib2FyZC9Cb2FyZFZpZXcmYm9hcmREYXRh\\r\\nSWQ9MjEwMzUy\\r\\n\\r\\n--===============3608656849532287762==--\\r\\n.\\r\\n'\n",
            "reply: b'250 2.0.0 OK  1614241857 w8sm2939641edd.39 - gsmtp\\r\\n'\n",
            "reply: retcode (250); Msg: b'2.0.0 OK  1614241857 w8sm2939641edd.39 - gsmtp'\n",
            "data: (250, b'2.0.0 OK  1614241857 w8sm2939641edd.39 - gsmtp')\n",
            "send: 'quit\\r\\n'\n",
            "reply: b'221 2.0.0 closing connection w8sm2939641edd.39 - gsmtp\\r\\n'\n",
            "reply: retcode (221); Msg: b'2.0.0 closing connection w8sm2939641edd.39 - gsmtp'\n"
          ],
          "name": "stderr"
        },
        {
          "output_type": "execute_result",
          "data": {
            "text/plain": [
              "(221, b'2.0.0 closing connection w8sm2939641edd.39 - gsmtp')"
            ]
          },
          "metadata": {
            "tags": []
          },
          "execution_count": 46
        }
      ]
    },
    {
      "cell_type": "code",
      "metadata": {
        "id": "gx7gpFxAT5yA"
      },
      "source": [
        ""
      ],
      "execution_count": null,
      "outputs": []
    }
  ]
}