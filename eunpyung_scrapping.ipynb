{
  "nbformat": 4,
  "nbformat_minor": 0,
  "metadata": {
    "colab": {
      "provenance": [],
      "authorship_tag": "ABX9TyPG76l18ldQu4FS50zcd2Iu",
      "include_colab_link": true
    },
    "kernelspec": {
      "name": "python3",
      "display_name": "Python 3"
    }
  },
  "cells": [
    {
      "cell_type": "markdown",
      "metadata": {
        "id": "view-in-github",
        "colab_type": "text"
      },
      "source": [
        "<a href=\"https://colab.research.google.com/github/daewpark/web_scrapping/blob/main/eunpyung_scrapping.ipynb\" target=\"_parent\"><img src=\"https://colab.research.google.com/assets/colab-badge.svg\" alt=\"Open In Colab\"/></a>"
      ]
    },
    {
      "cell_type": "markdown",
      "metadata": {
        "id": "ssBkX0yt7yJK"
      },
      "source": [
        "### Package 설치"
      ]
    },
    {
      "cell_type": "code",
      "metadata": {
        "id": "PJslbbZC3Oen"
      },
      "source": [
        "!pip install selenium\n",
        "!apt-get update\n",
        "!apt install chromium-chromedriver"
      ],
      "execution_count": null,
      "outputs": []
    },
    {
      "cell_type": "markdown",
      "metadata": {
        "id": "Fh10W1Gt728A"
      },
      "source": [
        "### Pactkage 호출 및 로드"
      ]
    },
    {
      "cell_type": "code",
      "metadata": {
        "id": "mFKqEimB1_Yw",
        "colab": {
          "base_uri": "https://localhost:8080/"
        },
        "outputId": "a75eaf99-60ce-4adf-a3ec-c61ff231f0d6"
      },
      "source": [
        "from selenium import webdriver\n",
        "from selenium.webdriver.support import expected_conditions as EC\n",
        "import time\n",
        "\n",
        "chrome_options = webdriver.ChromeOptions()\n",
        "chrome_options.add_argument('--headless')\n",
        "chrome_options.add_argument('--no-sandbox')\n",
        "chrome_options.add_argument('--disable-dev-shm-usage')\n",
        "chrome_options.add_argument('--window-size=1920x1080') # 왜 윈도우 사이즈를 명시하면 에러가 안나는 거지요?\n",
        "driver =webdriver.Chrome('chromedriver',chrome_options=chrome_options)"
      ],
      "execution_count": null,
      "outputs": [
        {
          "output_type": "stream",
          "text": [
            "/usr/local/lib/python3.7/dist-packages/ipykernel_launcher.py:10: DeprecationWarning: use options instead of chrome_options\n",
            "  # Remove the CWD from sys.path while we load stuff.\n"
          ],
          "name": "stderr"
        }
      ]
    },
    {
      "cell_type": "code",
      "metadata": {
        "id": "SlfpTX4O2KE0"
      },
      "source": [
        "import urllib.request\n",
        "from bs4 import BeautifulSoup\n",
        "import re"
      ],
      "execution_count": null,
      "outputs": []
    },
    {
      "cell_type": "markdown",
      "metadata": {
        "id": "h_qafZRn8D3S"
      },
      "source": [
        "### Selenium WebDriver 구동 및 검색결과 Parsing"
      ]
    },
    {
      "cell_type": "code",
      "metadata": {
        "id": "vFZY--vx2LlB"
      },
      "source": [
        "url = \"https://www.ep.go.kr/CmsWeb/viewPage.req?idx=PG0000001180\"\n",
        "driver.get(url)\n",
        "time.sleep(1)"
      ],
      "execution_count": null,
      "outputs": []
    },
    {
      "cell_type": "code",
      "metadata": {
        "id": "suE330ae2SA9"
      },
      "source": [
        "# 로드 된 웹페이지에서 검색창의 Name 을 찾아서 검색어 입력\n",
        "search = driver.find_element_by_name(\"searTot\")\n",
        "search.send_keys(\"원아모집\") # headless 모드에서 chrome_options.add_argument('--window-size=1920x1080') 옵션이 없으면 에러 발생하므로 옵션을 반드시 넣을 것\n",
        "search.submit()\n"
      ],
      "execution_count": null,
      "outputs": []
    },
    {
      "cell_type": "code",
      "metadata": {
        "id": "ottiskpn2TTy"
      },
      "source": [
        "# 검색결과 파싱\n",
        "driver.switch_to.window(driver.window_handles[-1]) #검색결과가 다른 탭에서 열리므로 새롭게 열린 탭으로 이동\n",
        "search_html = driver.page_source\n",
        "soup = BeautifulSoup(search_html,'html.parser')\n",
        "title = soup.find_all(class_='btnS_nw')"
      ],
      "execution_count": null,
      "outputs": []
    },
    {
      "cell_type": "markdown",
      "metadata": {
        "id": "yibhgWGK2bl0"
      },
      "source": [
        "### Pandas DataFrame 으로 결과저장"
      ]
    },
    {
      "cell_type": "code",
      "metadata": {
        "id": "NPxt172D2akA",
        "colab": {
          "base_uri": "https://localhost:8080/"
        },
        "outputId": "651197db-7b68-4a92-be8d-7b9dcbbcd4bd"
      },
      "source": [
        "result_list = []\n",
        "\n",
        "for i in title :\n",
        "   line = i.attrs['title'] + \"   \" + i.attrs['href']\n",
        "   result_list.append(line)\n",
        "\n",
        "with open (\"result.txt\",\"w\",encoding=\"utf-8\") as file :\n",
        "    for i in result_list :\n",
        "        file.write (i + '\\n')\n",
        "\n",
        "file.close\n"
      ],
      "execution_count": null,
      "outputs": [
        {
          "output_type": "execute_result",
          "data": {
            "text/plain": [
              "<function TextIOWrapper.close>"
            ]
          },
          "metadata": {
            "tags": []
          },
          "execution_count": 7
        }
      ]
    },
    {
      "cell_type": "markdown",
      "metadata": {
        "id": "nctmFntsqPor"
      },
      "source": [
        "### 스크래핑 결과 메일로 보내기"
      ]
    },
    {
      "cell_type": "code",
      "metadata": {
        "id": "U0Oujvzzp5rj"
      },
      "source": [
        "import smtplib;\n",
        "# from email.mime.base import MIMEBase;\n",
        "# 메일 메시지를 만드는 모듈 (MIMEBase는 이하 MIMEMultipart, MIMEText, MIMEApplication, MIMEImage, MIMEAudio)의 상위 모듈이다.\n",
        "# 굳이 선언할 필요없다.\n",
        "\n",
        "from email.mime.multipart import MIMEMultipart                                  # 메일의 Data 영역의 메시지를 만드는 모듈 (MIMEText, MIMEApplication, MIMEImage, MIMEAudio가 attach되면 바운더리 형식으로 변환)\n",
        "from email.mime.text import MIMEText                                            # 메일의 본문 내용을 만드는 모듈\n",
        "from email.mime.application import MIMEApplication                              # 메일의 첨부 파일을 base64 형식으로 변환\n",
        "from email.mime.image import MIMEImage                                          # 메일의 이미지 파일을 base64 형식으로 변환(Content-ID 생성)\n",
        "from email.mime.audio import MIMEAudio                                          # 메일의 음악 파일을 base64 형식으로 변환(Content-ID 생성)\n",
        "import io # 파일 IO"
      ],
      "execution_count": null,
      "outputs": []
    },
    {
      "cell_type": "code",
      "metadata": {
        "id": "hoRHQ6jiu9oR"
      },
      "source": [
        "#메일 발송시간을 알리기 위하여 timestamp 라이브러리 호출\n",
        "import datetime as dt\n",
        "today = dt.date.today()\n",
        "today_string = today.strftime(\"%Y-%m-%d\")\n",
        "\n",
        "# 메일 서버와 통신하기 전에 메시지를 만든다.\n",
        "message = MIMEMultipart()\n",
        "message.set_charset(\"utf-8\")\n",
        "message['From'] = \"내 메일 주소\"\n",
        "message['To'] = \"내 메일 주소\"\n",
        "message['Cc'] = None\n",
        "message['Bcc'] = None\n",
        "message['Subject'] = \"은평구청 원아모집 공고 알림봇 (\" + today_string + \")\"\n",
        "body = \"\\r\\n\".join(result_list)\n",
        "message.attach (MIMEText(body, 'plain'))\n",
        "print(message)"
      ],
      "execution_count": null,
      "outputs": []
    },
    {
      "cell_type": "code",
      "metadata": {
        "id": "wE0PjptwrzS7"
      },
      "source": [
        "# 첨부 파일 추가\n",
        "#with open(\"test.xlsx\", \"rb\") as fp :\n",
        "#    part = MIMEApplication(fp.read(), Name = \"test.xlsx\") # Name은 메일 수신자에서 설정되는 파일 이름\n",
        "#    data.attach (part) # Data 영역의 메시지에 바운더리 추가\n",
        "\n",
        "# 이미지 파일 추가\n",
        "#with open(\"capture.png\", 'rb') as fp :\n",
        "#    img = MIMEImage(fp.read(), Name = \"capture.png\") # Name은 메일 수신자에서 설정되는 파일 이름\n",
        "#    img.add_header('Content-ID', '<capture>') # 해더에 Content-ID 추가(본문 내용에서 cid로 링크를 걸 수 있다.)\n",
        "#    data.attach(img) # Data 영역의 메시지에 바운더리 추가\n",
        "\n",
        "\n",
        "# Html 형식의 본문 내용 (cid로 이미 첨부 파일을 링크했다.)\n",
        "# msg = MIMEText(\"Hello Test<br /><img src='cid:capture'>\", 'html')"
      ],
      "execution_count": null,
      "outputs": []
    },
    {
      "cell_type": "code",
      "metadata": {
        "id": "h4PLUSpwr9Kd"
      },
      "source": [
        "session = smtplib.SMTP('smtp.gmail.com', 587) # 메일 서버와 통신 개시\n",
        "session.set_debuglevel(True)\n",
        "session.ehlo()\n",
        "session.starttls()\n",
        "session.login('dwn.park@gmail.com', 'xytbwmxhgsfjvune')\n",
        "\n",
        "sender = message['From']\n",
        "receiver = message['To'].split(\",\")\n",
        "if message['Cc'] is not None :\n",
        "    receiver += data['Cc'].split(\",\") # 참조자 추가\n",
        "if message['Bcc'] is not None :\n",
        "    receiver += message['Bcc'].split(\",\") # 숨은 참조자 추가\n",
        "session.sendmail(sender, receiver, message.as_string()) # 메일 프로토콜 상 MAIL, RCPT, DATA 순으로 메시지를 보내야 하는데 이걸 sendmail함수에서 자동으로 해준다.\n",
        "session.quit() # QUIT을 보내고 접속을 종료하고 메일을 보낸다."
      ],
      "execution_count": null,
      "outputs": []
    }
  ]
}