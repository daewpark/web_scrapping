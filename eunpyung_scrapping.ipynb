{
  "nbformat": 4,
  "nbformat_minor": 0,
  "metadata": {
    "colab": {
      "name": "eunpyung_scrapping.ipynb",
      "provenance": [],
      "collapsed_sections": [],
      "authorship_tag": "ABX9TyPqbrpEsbRkGOtlTzl+TYIQ",
      "include_colab_link": true
    },
    "kernelspec": {
      "name": "python3",
      "display_name": "Python 3"
    }
  },
  "cells": [
    {
      "cell_type": "markdown",
      "metadata": {
        "id": "view-in-github",
        "colab_type": "text"
      },
      "source": [
        "<a href=\"https://colab.research.google.com/github/daewpark/web_scrapping/blob/main/eunpyung_scrapping.ipynb\" target=\"_parent\"><img src=\"https://colab.research.google.com/assets/colab-badge.svg\" alt=\"Open In Colab\"/></a>"
      ]
    },
    {
      "cell_type": "markdown",
      "metadata": {
        "id": "ssBkX0yt7yJK"
      },
      "source": [
        "### Package 설치"
      ]
    },
    {
      "cell_type": "code",
      "metadata": {
        "id": "PJslbbZC3Oen"
      },
      "source": [
        "!pip install selenium\r\n",
        "!apt-get update \r\n",
        "!apt install chromium-chromedriver"
      ],
      "execution_count": null,
      "outputs": []
    },
    {
      "cell_type": "markdown",
      "metadata": {
        "id": "Fh10W1Gt728A"
      },
      "source": [
        "### Pactkage 호출 및 로드"
      ]
    },
    {
      "cell_type": "code",
      "metadata": {
        "id": "mFKqEimB1_Yw"
      },
      "source": [
        "from selenium import webdriver\r\n",
        "from selenium.webdriver.support import expected_conditions as EC\r\n",
        "import time\r\n",
        "\r\n",
        "chrome_options = webdriver.ChromeOptions()\r\n",
        "chrome_options.add_argument('--headless')\r\n",
        "chrome_options.add_argument('--no-sandbox')\r\n",
        "chrome_options.add_argument('--disable-dev-shm-usage')\r\n",
        "chrome_options.add_argument('--window-size=1920x1080')\r\n",
        "driver =webdriver.Chrome('chromedriver',chrome_options=chrome_options)"
      ],
      "execution_count": null,
      "outputs": []
    },
    {
      "cell_type": "code",
      "metadata": {
        "id": "SlfpTX4O2KE0"
      },
      "source": [
        "import urllib.request\r\n",
        "from bs4 import BeautifulSoup\r\n",
        "import re"
      ],
      "execution_count": 4,
      "outputs": []
    },
    {
      "cell_type": "markdown",
      "metadata": {
        "id": "h_qafZRn8D3S"
      },
      "source": [
        "### Selenium WebDriver 구동 및 검색결과 Parsing"
      ]
    },
    {
      "cell_type": "code",
      "metadata": {
        "id": "vFZY--vx2LlB"
      },
      "source": [
        "url = \"https://www.ep.go.kr/CmsWeb/viewPage.req?idx=PG0000001180\"\r\n",
        "driver.get(url)\r\n",
        "time.sleep(1)"
      ],
      "execution_count": 5,
      "outputs": []
    },
    {
      "cell_type": "code",
      "metadata": {
        "id": "suE330ae2SA9"
      },
      "source": [
        "# 로드 된 웹페이지에서 검색창의 Name 을 찾아서 검색어 입력\r\n",
        "search = driver.find_element_by_name(\"searTot\")\r\n",
        "search.send_keys(\"원아모집\") # headless 모드에서 chrome_options.add_argument('--window-size=1920x1080') 옵션이 없으면 에러 발생하므로 옵션을 반드시 넣을 것\r\n",
        "search.submit()\r\n"
      ],
      "execution_count": 6,
      "outputs": []
    },
    {
      "cell_type": "code",
      "metadata": {
        "id": "ottiskpn2TTy"
      },
      "source": [
        "# 검색결과 파싱\r\n",
        "driver.switch_to.window(driver.window_handles[-1]) #검색결과가 다른 탭에서 열리므로 새롭게 열린 탭으로 이동\r\n",
        "search_html = driver.page_source\r\n",
        "soup = BeautifulSoup(search_html,'html.parser')\r\n",
        "title = soup.find_all(class_='btnS_nw')"
      ],
      "execution_count": null,
      "outputs": []
    },
    {
      "cell_type": "markdown",
      "metadata": {
        "id": "yibhgWGK2bl0"
      },
      "source": [
        "### Pandas DataFrame 으로 결과저장"
      ]
    },
    {
      "cell_type": "code",
      "metadata": {
        "id": "NPxt172D2akA"
      },
      "source": [
        "import pandas as pd\r\n",
        "\r\n",
        "result_list = []\r\n",
        "\r\n",
        "for i in title :\r\n",
        "    ititle = i.attrs['title']\r\n",
        "    ilink = i.attrs['href']\r\n",
        "    result_list.append([ititle,ilink])\r\n",
        "\r\n",
        "df = pd.DataFrame(result_list, columns = [\"title\",\"link\"])\r\n",
        "print(df)"
      ],
      "execution_count": null,
      "outputs": []
    }
  ]
}